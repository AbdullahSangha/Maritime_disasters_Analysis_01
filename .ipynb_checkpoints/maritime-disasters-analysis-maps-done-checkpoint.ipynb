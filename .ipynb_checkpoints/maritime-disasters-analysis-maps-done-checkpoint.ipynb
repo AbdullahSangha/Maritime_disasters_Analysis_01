{
 "cells": [
  {
   "cell_type": "code",
   "execution_count": null,
   "metadata": {
    "_cell_guid": "b1076dfc-b9ad-4769-8c92-a6c4dae69d19",
    "_kg_hide-input": true,
    "_kg_hide-output": true,
    "_uuid": "8f2839f25d086af736a60e9eeb907d3b93b6e0e5",
    "execution": {
     "iopub.execute_input": "2022-04-29T15:20:58.125528Z",
     "iopub.status.busy": "2022-04-29T15:20:58.124658Z",
     "iopub.status.idle": "2022-04-29T15:20:58.166273Z",
     "shell.execute_reply": "2022-04-29T15:20:58.165489Z",
     "shell.execute_reply.started": "2022-04-29T15:20:58.12542Z"
    },
    "jupyter": {
     "source_hidden": true
    }
   },
   "outputs": [],
   "source": [
    "# This Python 3 environment comes with many helpful analytics libraries installed\n",
    "# It is defined by the kaggle/python Docker image: https://github.com/kaggle/docker-python\n",
    "# For example, here's several helpful packages to load\n",
    "\n",
    "import numpy as np # linear algebra\n",
    "import pandas as pd # data processing, CSV file I/O (e.g. pd.read_csv)\n",
    "\n",
    "# Input data files are available in the read-only \"../input/\" directory\n",
    "# For example, running this (by clicking run or pressing Shift+Enter) will list all files under the input directory\n",
    "\n",
    "import os\n",
    "for dirname, _, filenames in os.walk('/kaggle/input'):\n",
    "    for filename in filenames:\n",
    "        print(os.path.join(dirname, filename))\n",
    "\n",
    "# You can write up to 20GB to the current directory (/kaggle/working/) that gets preserved as output when you create a version using \"Save & Run All\" \n",
    "# You can also write temporary files to /kaggle/temp/, but they won't be saved outside of the current session"
   ]
  },
  {
   "cell_type": "markdown",
   "metadata": {},
   "source": [
    "# Import Necessary Libraries"
   ]
  },
  {
   "cell_type": "code",
   "execution_count": 1,
   "metadata": {
    "tags": []
   },
   "outputs": [],
   "source": [
    "import pandas as pd \n",
    "import numpy as np\n",
    "import matplotlib.pyplot as plt\n",
    "import seaborn as sns"
   ]
  },
  {
   "cell_type": "markdown",
   "metadata": {},
   "source": [
    "# Explore Dataset"
   ]
  },
  {
   "cell_type": "code",
   "execution_count": 4,
   "metadata": {
    "tags": []
   },
   "outputs": [],
   "source": [
    "df = pd.read_csv('Maritime disasters of the 20th century.csv', index_col=0)"
   ]
  },
  {
   "cell_type": "code",
   "execution_count": 5,
   "metadata": {
    "tags": []
   },
   "outputs": [
    {
     "data": {
      "text/html": [
       "<div>\n",
       "<style scoped>\n",
       "    .dataframe tbody tr th:only-of-type {\n",
       "        vertical-align: middle;\n",
       "    }\n",
       "\n",
       "    .dataframe tbody tr th {\n",
       "        vertical-align: top;\n",
       "    }\n",
       "\n",
       "    .dataframe thead th {\n",
       "        text-align: right;\n",
       "    }\n",
       "</style>\n",
       "<table border=\"1\" class=\"dataframe\">\n",
       "  <thead>\n",
       "    <tr style=\"text-align: right;\">\n",
       "      <th></th>\n",
       "      <th>The year of the disaster</th>\n",
       "      <th>The country ship belongs to</th>\n",
       "      <th>The name of the ship</th>\n",
       "      <th>Number of deaths</th>\n",
       "    </tr>\n",
       "  </thead>\n",
       "  <tbody>\n",
       "    <tr>\n",
       "      <th>0</th>\n",
       "      <td>1987</td>\n",
       "      <td>Philippines</td>\n",
       "      <td>Dona Paz</td>\n",
       "      <td>4386</td>\n",
       "    </tr>\n",
       "    <tr>\n",
       "      <th>1</th>\n",
       "      <td>1948</td>\n",
       "      <td>China</td>\n",
       "      <td>Kiangya</td>\n",
       "      <td>2750</td>\n",
       "    </tr>\n",
       "    <tr>\n",
       "      <th>2</th>\n",
       "      <td>1917</td>\n",
       "      <td>Canada</td>\n",
       "      <td>Mont Blanc</td>\n",
       "      <td>1950</td>\n",
       "    </tr>\n",
       "    <tr>\n",
       "      <th>3</th>\n",
       "      <td>1912</td>\n",
       "      <td>UK</td>\n",
       "      <td>RMS Titanic</td>\n",
       "      <td>1517</td>\n",
       "    </tr>\n",
       "    <tr>\n",
       "      <th>4</th>\n",
       "      <td>1949</td>\n",
       "      <td>China</td>\n",
       "      <td>Taiping</td>\n",
       "      <td>1500</td>\n",
       "    </tr>\n",
       "    <tr>\n",
       "      <th>...</th>\n",
       "      <td>...</td>\n",
       "      <td>...</td>\n",
       "      <td>...</td>\n",
       "      <td>...</td>\n",
       "    </tr>\n",
       "    <tr>\n",
       "      <th>158</th>\n",
       "      <td>1975</td>\n",
       "      <td>USA</td>\n",
       "      <td>SS Edmund Fitzgerald</td>\n",
       "      <td>29</td>\n",
       "    </tr>\n",
       "    <tr>\n",
       "      <th>159</th>\n",
       "      <td>1978</td>\n",
       "      <td>Germany</td>\n",
       "      <td>MS Munchen</td>\n",
       "      <td>28</td>\n",
       "    </tr>\n",
       "    <tr>\n",
       "      <th>160</th>\n",
       "      <td>1981</td>\n",
       "      <td>Israel</td>\n",
       "      <td>The Mezada</td>\n",
       "      <td>24</td>\n",
       "    </tr>\n",
       "    <tr>\n",
       "      <th>161</th>\n",
       "      <td>1948</td>\n",
       "      <td>Malta</td>\n",
       "      <td>NaN</td>\n",
       "      <td>23</td>\n",
       "    </tr>\n",
       "    <tr>\n",
       "      <th>162</th>\n",
       "      <td>1974</td>\n",
       "      <td>Soviet Union</td>\n",
       "      <td>Tixi</td>\n",
       "      <td>45</td>\n",
       "    </tr>\n",
       "  </tbody>\n",
       "</table>\n",
       "<p>163 rows × 4 columns</p>\n",
       "</div>"
      ],
      "text/plain": [
       "     The year of the disaster The country ship belongs to  \\\n",
       "0                        1987                 Philippines   \n",
       "1                        1948                       China   \n",
       "2                        1917                      Canada   \n",
       "3                        1912                          UK   \n",
       "4                        1949                       China   \n",
       "..                        ...                         ...   \n",
       "158                      1975                         USA   \n",
       "159                      1978                     Germany   \n",
       "160                      1981                      Israel   \n",
       "161                      1948                       Malta   \n",
       "162                      1974                Soviet Union   \n",
       "\n",
       "     The name of the ship  Number of deaths  \n",
       "0                Dona Paz              4386  \n",
       "1                 Kiangya              2750  \n",
       "2              Mont Blanc              1950  \n",
       "3             RMS Titanic              1517  \n",
       "4                 Taiping              1500  \n",
       "..                    ...               ...  \n",
       "158  SS Edmund Fitzgerald                29  \n",
       "159            MS Munchen                28  \n",
       "160            The Mezada                24  \n",
       "161                   NaN                23  \n",
       "162                  Tixi                45  \n",
       "\n",
       "[163 rows x 4 columns]"
      ]
     },
     "execution_count": 5,
     "metadata": {},
     "output_type": "execute_result"
    }
   ],
   "source": [
    "df"
   ]
  },
  {
   "cell_type": "markdown",
   "metadata": {},
   "source": [
    "# Data Preprocessing"
   ]
  },
  {
   "cell_type": "code",
   "execution_count": 6,
   "metadata": {
    "tags": []
   },
   "outputs": [],
   "source": [
    "# Create a New Interval Column\n",
    "df['Interval'] = (10 * (df['The year of the disaster'] // 10)).astype(str) + 's'"
   ]
  },
  {
   "cell_type": "code",
   "execution_count": 7,
   "metadata": {
    "tags": []
   },
   "outputs": [
    {
     "data": {
      "text/plain": [
       "The year of the disaster        int64\n",
       "The country ship belongs to    object\n",
       "The name of the ship           object\n",
       "Number of deaths                int64\n",
       "Interval                       object\n",
       "dtype: object"
      ]
     },
     "execution_count": 7,
     "metadata": {},
     "output_type": "execute_result"
    }
   ],
   "source": [
    "df.dtypes"
   ]
  },
  {
   "cell_type": "code",
   "execution_count": 8,
   "metadata": {
    "tags": []
   },
   "outputs": [
    {
     "data": {
      "text/html": [
       "<div>\n",
       "<style scoped>\n",
       "    .dataframe tbody tr th:only-of-type {\n",
       "        vertical-align: middle;\n",
       "    }\n",
       "\n",
       "    .dataframe tbody tr th {\n",
       "        vertical-align: top;\n",
       "    }\n",
       "\n",
       "    .dataframe thead th {\n",
       "        text-align: right;\n",
       "    }\n",
       "</style>\n",
       "<table border=\"1\" class=\"dataframe\">\n",
       "  <thead>\n",
       "    <tr style=\"text-align: right;\">\n",
       "      <th></th>\n",
       "      <th>The year of the disaster</th>\n",
       "      <th>The country ship belongs to</th>\n",
       "      <th>The name of the ship</th>\n",
       "      <th>Number of deaths</th>\n",
       "      <th>Interval</th>\n",
       "    </tr>\n",
       "  </thead>\n",
       "  <tbody>\n",
       "    <tr>\n",
       "      <th>0</th>\n",
       "      <td>1987</td>\n",
       "      <td>Philippines</td>\n",
       "      <td>Dona Paz</td>\n",
       "      <td>4386</td>\n",
       "      <td>1980s</td>\n",
       "    </tr>\n",
       "    <tr>\n",
       "      <th>1</th>\n",
       "      <td>1948</td>\n",
       "      <td>China</td>\n",
       "      <td>Kiangya</td>\n",
       "      <td>2750</td>\n",
       "      <td>1940s</td>\n",
       "    </tr>\n",
       "    <tr>\n",
       "      <th>2</th>\n",
       "      <td>1917</td>\n",
       "      <td>Canada</td>\n",
       "      <td>Mont Blanc</td>\n",
       "      <td>1950</td>\n",
       "      <td>1910s</td>\n",
       "    </tr>\n",
       "    <tr>\n",
       "      <th>3</th>\n",
       "      <td>1912</td>\n",
       "      <td>UK</td>\n",
       "      <td>RMS Titanic</td>\n",
       "      <td>1517</td>\n",
       "      <td>1910s</td>\n",
       "    </tr>\n",
       "    <tr>\n",
       "      <th>4</th>\n",
       "      <td>1949</td>\n",
       "      <td>China</td>\n",
       "      <td>Taiping</td>\n",
       "      <td>1500</td>\n",
       "      <td>1940s</td>\n",
       "    </tr>\n",
       "  </tbody>\n",
       "</table>\n",
       "</div>"
      ],
      "text/plain": [
       "   The year of the disaster The country ship belongs to The name of the ship  \\\n",
       "0                      1987                 Philippines             Dona Paz   \n",
       "1                      1948                       China              Kiangya   \n",
       "2                      1917                      Canada           Mont Blanc   \n",
       "3                      1912                          UK          RMS Titanic   \n",
       "4                      1949                       China              Taiping   \n",
       "\n",
       "   Number of deaths Interval  \n",
       "0              4386    1980s  \n",
       "1              2750    1940s  \n",
       "2              1950    1910s  \n",
       "3              1517    1910s  \n",
       "4              1500    1940s  "
      ]
     },
     "execution_count": 8,
     "metadata": {},
     "output_type": "execute_result"
    }
   ],
   "source": [
    "df.head(5)"
   ]
  },
  {
   "cell_type": "code",
   "execution_count": 9,
   "metadata": {
    "tags": []
   },
   "outputs": [
    {
     "data": {
      "text/plain": [
       "<AxesSubplot:>"
      ]
     },
     "execution_count": 9,
     "metadata": {},
     "output_type": "execute_result"
    },
    {
     "data": {
      "image/png": "[encoded data removed]",
      "text/plain": [
       "<Figure size 432x288 with 1 Axes>"
      ]
     },
     "metadata": {
      "needs_background": "light"
     },
     "output_type": "display_data"
    }
   ],
   "source": [
    "# Plot to see null values in our data\n",
    "sns.heatmap(df.isnull(), cbar=False)"
   ]
  },
  {
   "cell_type": "code",
   "execution_count": 10,
   "metadata": {
    "tags": []
   },
   "outputs": [
    {
     "data": {
      "text/html": [
       "<div>\n",
       "<style scoped>\n",
       "    .dataframe tbody tr th:only-of-type {\n",
       "        vertical-align: middle;\n",
       "    }\n",
       "\n",
       "    .dataframe tbody tr th {\n",
       "        vertical-align: top;\n",
       "    }\n",
       "\n",
       "    .dataframe thead th {\n",
       "        text-align: right;\n",
       "    }\n",
       "</style>\n",
       "<table border=\"1\" class=\"dataframe\">\n",
       "  <thead>\n",
       "    <tr style=\"text-align: right;\">\n",
       "      <th></th>\n",
       "      <th>column_name</th>\n",
       "      <th>percent_missing</th>\n",
       "    </tr>\n",
       "  </thead>\n",
       "  <tbody>\n",
       "    <tr>\n",
       "      <th>The year of the disaster</th>\n",
       "      <td>The year of the disaster</td>\n",
       "      <td>0.000000</td>\n",
       "    </tr>\n",
       "    <tr>\n",
       "      <th>The country ship belongs to</th>\n",
       "      <td>The country ship belongs to</td>\n",
       "      <td>0.613497</td>\n",
       "    </tr>\n",
       "    <tr>\n",
       "      <th>The name of the ship</th>\n",
       "      <td>The name of the ship</td>\n",
       "      <td>1.840491</td>\n",
       "    </tr>\n",
       "    <tr>\n",
       "      <th>Number of deaths</th>\n",
       "      <td>Number of deaths</td>\n",
       "      <td>0.000000</td>\n",
       "    </tr>\n",
       "    <tr>\n",
       "      <th>Interval</th>\n",
       "      <td>Interval</td>\n",
       "      <td>0.000000</td>\n",
       "    </tr>\n",
       "  </tbody>\n",
       "</table>\n",
       "</div>"
      ],
      "text/plain": [
       "                                             column_name  percent_missing\n",
       "The year of the disaster        The year of the disaster         0.000000\n",
       "The country ship belongs to  The country ship belongs to         0.613497\n",
       "The name of the ship                The name of the ship         1.840491\n",
       "Number of deaths                        Number of deaths         0.000000\n",
       "Interval                                        Interval         0.000000"
      ]
     },
     "execution_count": 10,
     "metadata": {},
     "output_type": "execute_result"
    }
   ],
   "source": [
    "# Null Value Percentage Per column\n",
    "percent_missing = df.isnull().sum() * 100 / len(df)\n",
    "missing_value_df = pd.DataFrame({'column_name': df.columns,\n",
    "                                 'percent_missing': percent_missing})\n",
    "missing_value_df"
   ]
  },
  {
   "cell_type": "code",
   "execution_count": 11,
   "metadata": {
    "tags": []
   },
   "outputs": [],
   "source": [
    "df.to_csv('FINAL.csv')"
   ]
  },
  {
   "cell_type": "markdown",
   "metadata": {},
   "source": [
    "# EDA"
   ]
  },
  {
   "cell_type": "code",
   "execution_count": 12,
   "metadata": {
    "tags": []
   },
   "outputs": [
    {
     "data": {
      "image/png": "[encoded data removed]",
      "text/plain": [
       "<Figure size 576x360 with 2 Axes>"
      ]
     },
     "metadata": {
      "needs_background": "light"
     },
     "output_type": "display_data"
    }
   ],
   "source": [
    "# plot correlation matrix of numeric variables\n",
    "f = plt.figure(figsize=(8,5))\n",
    "plt.matshow(df.corr(), fignum=f.number)\n",
    "plt.xticks(range(df.select_dtypes(['number']).shape[1]), df.select_dtypes(['number']).columns, fontsize=14, rotation=45)\n",
    "plt.yticks(range(df.select_dtypes(['number']).shape[1]), df.select_dtypes(['number']).columns, fontsize=14)\n",
    "cb = plt.colorbar()\n",
    "cb.ax.tick_params(labelsize=14)"
   ]
  },
  {
   "cell_type": "code",
   "execution_count": 13,
   "metadata": {
    "tags": []
   },
   "outputs": [],
   "source": [
    "data = df\n",
    "cad = data[['The country ship belongs to','Number of deaths']].groupby(['The country ship belongs to']).sum().reset_index().sort_values('Number of deaths', ascending = False)"
   ]
  },
  {
   "cell_type": "code",
   "execution_count": 14,
   "metadata": {
    "tags": []
   },
   "outputs": [
    {
     "data": {
      "text/html": [
       "<div>\n",
       "<style scoped>\n",
       "    .dataframe tbody tr th:only-of-type {\n",
       "        vertical-align: middle;\n",
       "    }\n",
       "\n",
       "    .dataframe tbody tr th {\n",
       "        vertical-align: top;\n",
       "    }\n",
       "\n",
       "    .dataframe thead th {\n",
       "        text-align: right;\n",
       "    }\n",
       "</style>\n",
       "<table border=\"1\" class=\"dataframe\">\n",
       "  <thead>\n",
       "    <tr style=\"text-align: right;\">\n",
       "      <th></th>\n",
       "      <th>The country ship belongs to</th>\n",
       "      <th>Number of deaths</th>\n",
       "    </tr>\n",
       "  </thead>\n",
       "  <tbody>\n",
       "    <tr>\n",
       "      <th>30</th>\n",
       "      <td>Philippines</td>\n",
       "      <td>5520</td>\n",
       "    </tr>\n",
       "    <tr>\n",
       "      <th>43</th>\n",
       "      <td>UK</td>\n",
       "      <td>5314</td>\n",
       "    </tr>\n",
       "    <tr>\n",
       "      <th>44</th>\n",
       "      <td>USA</td>\n",
       "      <td>5062</td>\n",
       "    </tr>\n",
       "    <tr>\n",
       "      <th>6</th>\n",
       "      <td>China</td>\n",
       "      <td>4996</td>\n",
       "    </tr>\n",
       "    <tr>\n",
       "      <th>21</th>\n",
       "      <td>Japan</td>\n",
       "      <td>3744</td>\n",
       "    </tr>\n",
       "  </tbody>\n",
       "</table>\n",
       "</div>"
      ],
      "text/plain": [
       "   The country ship belongs to  Number of deaths\n",
       "30                 Philippines              5520\n",
       "43                          UK              5314\n",
       "44                         USA              5062\n",
       "6                        China              4996\n",
       "21                       Japan              3744"
      ]
     },
     "execution_count": 14,
     "metadata": {},
     "output_type": "execute_result"
    }
   ],
   "source": [
    "cad.head(5)"
   ]
  },
  {
   "cell_type": "code",
   "execution_count": 15,
   "metadata": {
    "tags": []
   },
   "outputs": [
    {
     "data": {
      "text/plain": [
       "Text(0.5, 1.0, 'Total Number of deaths with respect to Countries')"
      ]
     },
     "execution_count": 15,
     "metadata": {},
     "output_type": "execute_result"
    },
    {
     "data": {
      "image/png": "[encoded data removed]",
      "text/plain": [
       "<Figure size 1080x1080 with 1 Axes>"
      ]
     },
     "metadata": {
      "needs_background": "light"
     },
     "output_type": "display_data"
    }
   ],
   "source": [
    "plt.figure(figsize = (15,15))\n",
    "sns.barplot(y = 'The country ship belongs to', x = 'Number of deaths', data = cad, palette = 'mako')\n",
    "plt.xlabel('Total Number of deaths', size = 15, color='midnightblue')\n",
    "plt.ylabel('')\n",
    "plt.xticks(color='midnightblue')\n",
    "plt.yticks(color='midnightblue')\n",
    "plt.title('Total Number of deaths with respect to Countries', size = 15, color='midnightblue')"
   ]
  },
  {
   "cell_type": "code",
   "execution_count": 16,
   "metadata": {
    "tags": []
   },
   "outputs": [
    {
     "data": {
      "text/html": [
       "<div>\n",
       "<style scoped>\n",
       "    .dataframe tbody tr th:only-of-type {\n",
       "        vertical-align: middle;\n",
       "    }\n",
       "\n",
       "    .dataframe tbody tr th {\n",
       "        vertical-align: top;\n",
       "    }\n",
       "\n",
       "    .dataframe thead th {\n",
       "        text-align: right;\n",
       "    }\n",
       "</style>\n",
       "<table border=\"1\" class=\"dataframe\">\n",
       "  <thead>\n",
       "    <tr style=\"text-align: right;\">\n",
       "      <th></th>\n",
       "      <th>The year of the disaster</th>\n",
       "      <th>The country ship belongs to</th>\n",
       "      <th>The name of the ship</th>\n",
       "      <th>Number of deaths</th>\n",
       "      <th>Interval</th>\n",
       "    </tr>\n",
       "  </thead>\n",
       "  <tbody>\n",
       "    <tr>\n",
       "      <th>0</th>\n",
       "      <td>1987</td>\n",
       "      <td>Philippines</td>\n",
       "      <td>Dona Paz</td>\n",
       "      <td>4386</td>\n",
       "      <td>1980s</td>\n",
       "    </tr>\n",
       "    <tr>\n",
       "      <th>1</th>\n",
       "      <td>1948</td>\n",
       "      <td>China</td>\n",
       "      <td>Kiangya</td>\n",
       "      <td>2750</td>\n",
       "      <td>1940s</td>\n",
       "    </tr>\n",
       "    <tr>\n",
       "      <th>2</th>\n",
       "      <td>1917</td>\n",
       "      <td>Canada</td>\n",
       "      <td>Mont Blanc</td>\n",
       "      <td>1950</td>\n",
       "      <td>1910s</td>\n",
       "    </tr>\n",
       "    <tr>\n",
       "      <th>3</th>\n",
       "      <td>1912</td>\n",
       "      <td>UK</td>\n",
       "      <td>RMS Titanic</td>\n",
       "      <td>1517</td>\n",
       "      <td>1910s</td>\n",
       "    </tr>\n",
       "    <tr>\n",
       "      <th>4</th>\n",
       "      <td>1949</td>\n",
       "      <td>China</td>\n",
       "      <td>Taiping</td>\n",
       "      <td>1500</td>\n",
       "      <td>1940s</td>\n",
       "    </tr>\n",
       "  </tbody>\n",
       "</table>\n",
       "</div>"
      ],
      "text/plain": [
       "   The year of the disaster The country ship belongs to The name of the ship  \\\n",
       "0                      1987                 Philippines             Dona Paz   \n",
       "1                      1948                       China              Kiangya   \n",
       "2                      1917                      Canada           Mont Blanc   \n",
       "3                      1912                          UK          RMS Titanic   \n",
       "4                      1949                       China              Taiping   \n",
       "\n",
       "   Number of deaths Interval  \n",
       "0              4386    1980s  \n",
       "1              2750    1940s  \n",
       "2              1950    1910s  \n",
       "3              1517    1910s  \n",
       "4              1500    1940s  "
      ]
     },
     "execution_count": 16,
     "metadata": {},
     "output_type": "execute_result"
    }
   ],
   "source": [
    "df.head(5)"
   ]
  },
  {
   "cell_type": "code",
   "execution_count": 17,
   "metadata": {
    "tags": []
   },
   "outputs": [],
   "source": [
    "data = df\n",
    "IAD = data[['Interval','Number of deaths']].groupby(['Interval']).sum().reset_index().sort_values('Number of deaths', ascending = False)"
   ]
  },
  {
   "cell_type": "code",
   "execution_count": 18,
   "metadata": {
    "tags": []
   },
   "outputs": [
    {
     "data": {
      "text/html": [
       "<div>\n",
       "<style scoped>\n",
       "    .dataframe tbody tr th:only-of-type {\n",
       "        vertical-align: middle;\n",
       "    }\n",
       "\n",
       "    .dataframe tbody tr th {\n",
       "        vertical-align: top;\n",
       "    }\n",
       "\n",
       "    .dataframe thead th {\n",
       "        text-align: right;\n",
       "    }\n",
       "</style>\n",
       "<table border=\"1\" class=\"dataframe\">\n",
       "  <thead>\n",
       "    <tr style=\"text-align: right;\">\n",
       "      <th></th>\n",
       "      <th>Interval</th>\n",
       "      <th>Number of deaths</th>\n",
       "    </tr>\n",
       "  </thead>\n",
       "  <tbody>\n",
       "    <tr>\n",
       "      <th>1</th>\n",
       "      <td>1910s</td>\n",
       "      <td>9613</td>\n",
       "    </tr>\n",
       "    <tr>\n",
       "      <th>8</th>\n",
       "      <td>1980s</td>\n",
       "      <td>8413</td>\n",
       "    </tr>\n",
       "    <tr>\n",
       "      <th>4</th>\n",
       "      <td>1940s</td>\n",
       "      <td>5878</td>\n",
       "    </tr>\n",
       "    <tr>\n",
       "      <th>9</th>\n",
       "      <td>1990s</td>\n",
       "      <td>5725</td>\n",
       "    </tr>\n",
       "    <tr>\n",
       "      <th>0</th>\n",
       "      <td>1900s</td>\n",
       "      <td>5053</td>\n",
       "    </tr>\n",
       "    <tr>\n",
       "      <th>2</th>\n",
       "      <td>1920s</td>\n",
       "      <td>4536</td>\n",
       "    </tr>\n",
       "    <tr>\n",
       "      <th>5</th>\n",
       "      <td>1950s</td>\n",
       "      <td>3564</td>\n",
       "    </tr>\n",
       "    <tr>\n",
       "      <th>7</th>\n",
       "      <td>1970s</td>\n",
       "      <td>1481</td>\n",
       "    </tr>\n",
       "    <tr>\n",
       "      <th>6</th>\n",
       "      <td>1960s</td>\n",
       "      <td>1194</td>\n",
       "    </tr>\n",
       "    <tr>\n",
       "      <th>3</th>\n",
       "      <td>1930s</td>\n",
       "      <td>1176</td>\n",
       "    </tr>\n",
       "    <tr>\n",
       "      <th>10</th>\n",
       "      <td>2000s</td>\n",
       "      <td>681</td>\n",
       "    </tr>\n",
       "  </tbody>\n",
       "</table>\n",
       "</div>"
      ],
      "text/plain": [
       "   Interval  Number of deaths\n",
       "1     1910s              9613\n",
       "8     1980s              8413\n",
       "4     1940s              5878\n",
       "9     1990s              5725\n",
       "0     1900s              5053\n",
       "2     1920s              4536\n",
       "5     1950s              3564\n",
       "7     1970s              1481\n",
       "6     1960s              1194\n",
       "3     1930s              1176\n",
       "10    2000s               681"
      ]
     },
     "execution_count": 18,
     "metadata": {},
     "output_type": "execute_result"
    }
   ],
   "source": [
    "IAD"
   ]
  },
  {
   "cell_type": "code",
   "execution_count": 19,
   "metadata": {
    "tags": []
   },
   "outputs": [
    {
     "data": {
      "text/plain": [
       "Text(0.5, 1.0, 'Total Number of deaths in respective Decade')"
      ]
     },
     "execution_count": 19,
     "metadata": {},
     "output_type": "execute_result"
    },
    {
     "data": {
      "image/png": "[encoded data removed]",
      "text/plain": [
       "<Figure size 1296x1080 with 1 Axes>"
      ]
     },
     "metadata": {
      "needs_background": "light"
     },
     "output_type": "display_data"
    }
   ],
   "source": [
    "plt.figure(figsize = (18,15))\n",
    "sns.barplot(y = 'Number of deaths', x = 'Interval', data = IAD, palette = 'magma')\n",
    "plt.xlabel('Respective Decade', size = 15, color='midnightblue')\n",
    "plt.ylabel('Total Number of deaths', size = 15, color='midnightblue')\n",
    "plt.xticks(color='midnightblue')\n",
    "plt.yticks(color='midnightblue')\n",
    "plt.title('Total Number of deaths in respective Decade', size = 15, color='midnightblue')"
   ]
  },
  {
   "cell_type": "code",
   "execution_count": 20,
   "metadata": {
    "tags": []
   },
   "outputs": [
    {
     "name": "stdout",
     "output_type": "stream",
     "text": [
      "Dona Paz\n",
      "Kiangya\n",
      "Mont Blanc\n",
      "RMS Titanic\n",
      "Taiping\n",
      "Toya Maru\n",
      "RMS Empress of Ireland\n",
      "General Slocum\n",
      "Kiche Maru\n",
      "Hong Moh\n",
      "Wusung\n",
      "Estonia\n",
      "Eastland\n",
      "Bukoba\n",
      "Indigirka\n",
      "Camorta\n",
      "HMS Bulwark\n",
      "Norge\n",
      "Ramdas\n",
      "Novorossiysk\n",
      "Grandcamp\n",
      "Tamponas II\n",
      "SS Afrique\n",
      "Ferry Neptune\n",
      "Shamia\n",
      "Valbanera\n",
      "Cahaya Bahari\n",
      "Salem Express\n",
      "Principe de Asturias\n",
      "Hongxing 245/240\n",
      "Admiral Nakhimov\n",
      "Unnamed passenger ship\n",
      "Dona Marilyn\n",
      "KM Bismas Raya 2\n",
      "Princess Sophia\n",
      "Namyoung-ho\n",
      "Yoshino\n",
      "Principessa Mafalda\n",
      "Dashun\n",
      "Harta Rimba\n",
      "Liberte\n",
      "Sobral Santos ll\n",
      "Sirio\n",
      "Seohae Ferry\n",
      "F174\n",
      "Uskudar\n",
      "Likoni Ferry\n",
      "Angamos\n",
      "Gurita\n",
      "nan\n",
      "Dara\n",
      "Heraklion\n",
      "MV Christena\n",
      "Changgyeong\n",
      "Sovnarkom\n",
      "Aquidaba\n",
      "Waratah\n",
      "Matsushima\n",
      "Iolaire\n",
      "Haisal\n",
      "Herald of Free Enterprise\n",
      "Aleksandr Suvorov\n",
      "Don Juan\n",
      "USS Hobson\n",
      "Southern Cross\n",
      "Shiun Maru\n",
      "Scandinavian Star\n",
      "Princess of the Orient\n",
      "Larchmont\n",
      "Koombana\n",
      "Mogosoaia\n",
      "Majakovskis Riga\n",
      "Cebu City\n",
      "Moby Prince\n",
      "Morro Castle\n",
      "Kuru\n",
      "City of Rio de Janeiro\n",
      "Princess Victoria\n",
      "Pamir\n",
      "Volturno\n",
      "USS Thresher\n",
      "TSMS Lakonia\n",
      "Berlin\n",
      "Hilda\n",
      "Yongala\n",
      "Pulau Kidjang\n",
      "Iena\n",
      "Sardinia\n",
      "K-141 Kursk\n",
      "Noronic\n",
      "Valencia\n",
      "Vestris\n",
      "Star of Bengal\n",
      "Orazio\n",
      "Dalstroy\n",
      "USS Bennington\n",
      "HMS Thetis\n",
      "USS Scorpion\n",
      "Hans Hedtoft\n",
      "SS Emir\n",
      "Florizel\n",
      "Seacrest\n",
      "Connemara\n",
      "Yarmouth Castle\n",
      "Columbia\n",
      "Topolobampo\n",
      "Ocean Ranger\n",
      "Kateri i Rades\n",
      "HMAS Voyager\n",
      "Express Samina\n",
      "TCG Dumlupinar\n",
      "Datu Kalantiaw\n",
      "George Prince\n",
      "San Juan\n",
      "Spyros\n",
      "Penguin\n",
      "HMS Affray\n",
      "Kobenhavn\n",
      "USS Frank E.Evans\n",
      "Viva Antipolo VII\n",
      "STV Royston Grange\n",
      "Gretchen I\n",
      "HMS M1\n",
      "Justo Rufino Barrios II\n",
      "HMS Cobra\n",
      "HMS Truculent\n",
      "HMS K5\n",
      "USS Conestoga\n",
      "Clallam\n",
      "Asia South Korea\n",
      "Mackinac\n",
      "Jan Heweliusz\n",
      "Georges Philippar\n",
      "TEV Wahine\n",
      "Milwaukee\n",
      "Marchioness\n",
      "Minocher Cowasjee\n",
      "Canastota\n",
      "USS Iowa\n",
      "Mohawk\n",
      "Andrea Doria\n",
      "Dix\n",
      "Elingamite\n",
      "Derbyshire\n",
      "K-278 Komsomolets\n",
      "Heleanna\n",
      "Monroe\n",
      "Islander\n",
      "Sechelt\n",
      "Don\n",
      "USS Liberty\n",
      "Carl D.Bradley\n",
      "Tritonica\n",
      "William B.Davock\n",
      "Fantome\n",
      "HMHS Britannic\n",
      "Royal Pacific\n",
      "SS Edmund Fitzgerald\n",
      "MS Munchen\n",
      "The Mezada\n",
      "Tixi\n"
     ]
    }
   ],
   "source": [
    "for elem in df['The name of the ship'].unique():\n",
    "    print(elem)"
   ]
  },
  {
   "cell_type": "code",
   "execution_count": 21,
   "metadata": {
    "tags": []
   },
   "outputs": [],
   "source": [
    "data = df\n",
    "SAD = data[['The name of the ship','Number of deaths']].groupby(['The name of the ship']).sum().reset_index().sort_values('Number of deaths', ascending = False)"
   ]
  },
  {
   "cell_type": "code",
   "execution_count": 22,
   "metadata": {
    "tags": []
   },
   "outputs": [
    {
     "data": {
      "text/html": [
       "<div>\n",
       "<style scoped>\n",
       "    .dataframe tbody tr th:only-of-type {\n",
       "        vertical-align: middle;\n",
       "    }\n",
       "\n",
       "    .dataframe tbody tr th {\n",
       "        vertical-align: top;\n",
       "    }\n",
       "\n",
       "    .dataframe thead th {\n",
       "        text-align: right;\n",
       "    }\n",
       "</style>\n",
       "<table border=\"1\" class=\"dataframe\">\n",
       "  <thead>\n",
       "    <tr style=\"text-align: right;\">\n",
       "      <th></th>\n",
       "      <th>The name of the ship</th>\n",
       "      <th>Number of deaths</th>\n",
       "    </tr>\n",
       "  </thead>\n",
       "  <tbody>\n",
       "    <tr>\n",
       "      <th>27</th>\n",
       "      <td>Dona Paz</td>\n",
       "      <td>4386</td>\n",
       "    </tr>\n",
       "    <tr>\n",
       "      <th>70</th>\n",
       "      <td>Kiangya</td>\n",
       "      <td>2750</td>\n",
       "    </tr>\n",
       "    <tr>\n",
       "      <th>90</th>\n",
       "      <td>Mont Blanc</td>\n",
       "      <td>1950</td>\n",
       "    </tr>\n",
       "    <tr>\n",
       "      <th>107</th>\n",
       "      <td>RMS Titanic</td>\n",
       "      <td>1517</td>\n",
       "    </tr>\n",
       "    <tr>\n",
       "      <th>132</th>\n",
       "      <td>Taiping</td>\n",
       "      <td>1500</td>\n",
       "    </tr>\n",
       "  </tbody>\n",
       "</table>\n",
       "</div>"
      ],
      "text/plain": [
       "    The name of the ship  Number of deaths\n",
       "27              Dona Paz              4386\n",
       "70               Kiangya              2750\n",
       "90            Mont Blanc              1950\n",
       "107          RMS Titanic              1517\n",
       "132              Taiping              1500"
      ]
     },
     "execution_count": 22,
     "metadata": {},
     "output_type": "execute_result"
    }
   ],
   "source": [
    "SAD.head(5)"
   ]
  },
  {
   "cell_type": "code",
   "execution_count": 23,
   "metadata": {
    "tags": []
   },
   "outputs": [
    {
     "data": {
      "text/plain": [
       "Text(0.5, 1.0, 'Total Number of deaths against Top 30 Ships')"
      ]
     },
     "execution_count": 23,
     "metadata": {},
     "output_type": "execute_result"
    },
    {
     "data": {
      "image/png": "[encoded data removed]",
      "text/plain": [
       "<Figure size 1080x1080 with 1 Axes>"
      ]
     },
     "metadata": {
      "needs_background": "light"
     },
     "output_type": "display_data"
    }
   ],
   "source": [
    "plt.figure(figsize = (15,15))\n",
    "sns.barplot(y = 'The name of the ship', x = 'Number of deaths', data = SAD.nlargest(30, 'Number of deaths'), palette = 'magma')\n",
    "plt.xlabel('Total Number of deaths', size = 15, color='midnightblue')\n",
    "plt.ylabel('The name of the Ship', size = 15, color='midnightblue')\n",
    "plt.xticks(color='midnightblue')\n",
    "plt.yticks(color='midnightblue')\n",
    "plt.title('Total Number of deaths against Top 30 Ships', size = 15, color='midnightblue')"
   ]
  },
  {
   "cell_type": "markdown",
   "metadata": {},
   "source": [
    "# PART TWO MAPS"
   ]
  },
  {
   "cell_type": "code",
   "execution_count": 24,
   "metadata": {
    "tags": []
   },
   "outputs": [],
   "source": [
    "df = pd.read_csv('./FINAL.csv', index_col=0)"
   ]
  },
  {
   "cell_type": "code",
   "execution_count": 25,
   "metadata": {
    "tags": []
   },
   "outputs": [],
   "source": [
    "df = df.rename(columns={'The country ship belongs to': 'Country'})"
   ]
  },
  {
   "cell_type": "code",
   "execution_count": 26,
   "metadata": {
    "tags": []
   },
   "outputs": [],
   "source": [
    "df = df.rename(columns={'Number of deaths': 'Number_of_Deaths'})"
   ]
  },
  {
   "cell_type": "code",
   "execution_count": 27,
   "metadata": {
    "tags": []
   },
   "outputs": [
    {
     "data": {
      "text/html": [
       "<div>\n",
       "<style scoped>\n",
       "    .dataframe tbody tr th:only-of-type {\n",
       "        vertical-align: middle;\n",
       "    }\n",
       "\n",
       "    .dataframe tbody tr th {\n",
       "        vertical-align: top;\n",
       "    }\n",
       "\n",
       "    .dataframe thead th {\n",
       "        text-align: right;\n",
       "    }\n",
       "</style>\n",
       "<table border=\"1\" class=\"dataframe\">\n",
       "  <thead>\n",
       "    <tr style=\"text-align: right;\">\n",
       "      <th></th>\n",
       "      <th>The year of the disaster</th>\n",
       "      <th>Country</th>\n",
       "      <th>The name of the ship</th>\n",
       "      <th>Number_of_Deaths</th>\n",
       "      <th>Interval</th>\n",
       "    </tr>\n",
       "  </thead>\n",
       "  <tbody>\n",
       "    <tr>\n",
       "      <th>0</th>\n",
       "      <td>1987</td>\n",
       "      <td>Philippines</td>\n",
       "      <td>Dona Paz</td>\n",
       "      <td>4386</td>\n",
       "      <td>1980s</td>\n",
       "    </tr>\n",
       "    <tr>\n",
       "      <th>1</th>\n",
       "      <td>1948</td>\n",
       "      <td>China</td>\n",
       "      <td>Kiangya</td>\n",
       "      <td>2750</td>\n",
       "      <td>1940s</td>\n",
       "    </tr>\n",
       "    <tr>\n",
       "      <th>2</th>\n",
       "      <td>1917</td>\n",
       "      <td>Canada</td>\n",
       "      <td>Mont Blanc</td>\n",
       "      <td>1950</td>\n",
       "      <td>1910s</td>\n",
       "    </tr>\n",
       "    <tr>\n",
       "      <th>3</th>\n",
       "      <td>1912</td>\n",
       "      <td>UK</td>\n",
       "      <td>RMS Titanic</td>\n",
       "      <td>1517</td>\n",
       "      <td>1910s</td>\n",
       "    </tr>\n",
       "    <tr>\n",
       "      <th>4</th>\n",
       "      <td>1949</td>\n",
       "      <td>China</td>\n",
       "      <td>Taiping</td>\n",
       "      <td>1500</td>\n",
       "      <td>1940s</td>\n",
       "    </tr>\n",
       "  </tbody>\n",
       "</table>\n",
       "</div>"
      ],
      "text/plain": [
       "   The year of the disaster      Country The name of the ship  \\\n",
       "0                      1987  Philippines             Dona Paz   \n",
       "1                      1948        China              Kiangya   \n",
       "2                      1917       Canada           Mont Blanc   \n",
       "3                      1912           UK          RMS Titanic   \n",
       "4                      1949        China              Taiping   \n",
       "\n",
       "   Number_of_Deaths Interval  \n",
       "0              4386    1980s  \n",
       "1              2750    1940s  \n",
       "2              1950    1910s  \n",
       "3              1517    1910s  \n",
       "4              1500    1940s  "
      ]
     },
     "execution_count": 27,
     "metadata": {},
     "output_type": "execute_result"
    }
   ],
   "source": [
    "df.head(5)"
   ]
  },
  {
   "cell_type": "code",
   "execution_count": 28,
   "metadata": {
    "tags": []
   },
   "outputs": [],
   "source": [
    "df.loc[ df[\"Country\"] == \"UK\", \"Country\"] = \"United Kingdom\""
   ]
  },
  {
   "cell_type": "code",
   "execution_count": 29,
   "metadata": {
    "tags": []
   },
   "outputs": [],
   "source": [
    "df.loc[ df[\"Country\"] == \"USA\", \"Country\"] = \"United States\""
   ]
  },
  {
   "cell_type": "code",
   "execution_count": 30,
   "metadata": {
    "tags": []
   },
   "outputs": [
    {
     "data": {
      "text/html": [
       "<div>\n",
       "<style scoped>\n",
       "    .dataframe tbody tr th:only-of-type {\n",
       "        vertical-align: middle;\n",
       "    }\n",
       "\n",
       "    .dataframe tbody tr th {\n",
       "        vertical-align: top;\n",
       "    }\n",
       "\n",
       "    .dataframe thead th {\n",
       "        text-align: right;\n",
       "    }\n",
       "</style>\n",
       "<table border=\"1\" class=\"dataframe\">\n",
       "  <thead>\n",
       "    <tr style=\"text-align: right;\">\n",
       "      <th></th>\n",
       "      <th>The year of the disaster</th>\n",
       "      <th>Country</th>\n",
       "      <th>The name of the ship</th>\n",
       "      <th>Number_of_Deaths</th>\n",
       "      <th>Interval</th>\n",
       "    </tr>\n",
       "  </thead>\n",
       "  <tbody>\n",
       "    <tr>\n",
       "      <th>0</th>\n",
       "      <td>1987</td>\n",
       "      <td>Philippines</td>\n",
       "      <td>Dona Paz</td>\n",
       "      <td>4386</td>\n",
       "      <td>1980s</td>\n",
       "    </tr>\n",
       "    <tr>\n",
       "      <th>1</th>\n",
       "      <td>1948</td>\n",
       "      <td>China</td>\n",
       "      <td>Kiangya</td>\n",
       "      <td>2750</td>\n",
       "      <td>1940s</td>\n",
       "    </tr>\n",
       "    <tr>\n",
       "      <th>2</th>\n",
       "      <td>1917</td>\n",
       "      <td>Canada</td>\n",
       "      <td>Mont Blanc</td>\n",
       "      <td>1950</td>\n",
       "      <td>1910s</td>\n",
       "    </tr>\n",
       "    <tr>\n",
       "      <th>3</th>\n",
       "      <td>1912</td>\n",
       "      <td>United Kingdom</td>\n",
       "      <td>RMS Titanic</td>\n",
       "      <td>1517</td>\n",
       "      <td>1910s</td>\n",
       "    </tr>\n",
       "    <tr>\n",
       "      <th>4</th>\n",
       "      <td>1949</td>\n",
       "      <td>China</td>\n",
       "      <td>Taiping</td>\n",
       "      <td>1500</td>\n",
       "      <td>1940s</td>\n",
       "    </tr>\n",
       "    <tr>\n",
       "      <th>5</th>\n",
       "      <td>1954</td>\n",
       "      <td>Japan</td>\n",
       "      <td>Toya Maru</td>\n",
       "      <td>1153</td>\n",
       "      <td>1950s</td>\n",
       "    </tr>\n",
       "    <tr>\n",
       "      <th>6</th>\n",
       "      <td>1914</td>\n",
       "      <td>Canada</td>\n",
       "      <td>RMS Empress of Ireland</td>\n",
       "      <td>1012</td>\n",
       "      <td>1910s</td>\n",
       "    </tr>\n",
       "    <tr>\n",
       "      <th>7</th>\n",
       "      <td>1904</td>\n",
       "      <td>United States</td>\n",
       "      <td>General Slocum</td>\n",
       "      <td>1021</td>\n",
       "      <td>1900s</td>\n",
       "    </tr>\n",
       "    <tr>\n",
       "      <th>8</th>\n",
       "      <td>1912</td>\n",
       "      <td>Japan</td>\n",
       "      <td>Kiche Maru</td>\n",
       "      <td>1000</td>\n",
       "      <td>1910s</td>\n",
       "    </tr>\n",
       "    <tr>\n",
       "      <th>9</th>\n",
       "      <td>1921</td>\n",
       "      <td>Singapore</td>\n",
       "      <td>Hong Moh</td>\n",
       "      <td>1000</td>\n",
       "      <td>1920s</td>\n",
       "    </tr>\n",
       "  </tbody>\n",
       "</table>\n",
       "</div>"
      ],
      "text/plain": [
       "   The year of the disaster         Country    The name of the ship  \\\n",
       "0                      1987     Philippines                Dona Paz   \n",
       "1                      1948           China                 Kiangya   \n",
       "2                      1917          Canada              Mont Blanc   \n",
       "3                      1912  United Kingdom             RMS Titanic   \n",
       "4                      1949           China                 Taiping   \n",
       "5                      1954           Japan               Toya Maru   \n",
       "6                      1914          Canada  RMS Empress of Ireland   \n",
       "7                      1904   United States          General Slocum   \n",
       "8                      1912           Japan              Kiche Maru   \n",
       "9                      1921       Singapore                Hong Moh   \n",
       "\n",
       "   Number_of_Deaths Interval  \n",
       "0              4386    1980s  \n",
       "1              2750    1940s  \n",
       "2              1950    1910s  \n",
       "3              1517    1910s  \n",
       "4              1500    1940s  \n",
       "5              1153    1950s  \n",
       "6              1012    1910s  \n",
       "7              1021    1900s  \n",
       "8              1000    1910s  \n",
       "9              1000    1920s  "
      ]
     },
     "execution_count": 30,
     "metadata": {},
     "output_type": "execute_result"
    }
   ],
   "source": [
    "df.head(10)"
   ]
  },
  {
   "cell_type": "code",
   "execution_count": null,
   "metadata": {},
   "outputs": [],
   "source": [
    "%pip install pycountry"
   ]
  },
  {
   "cell_type": "code",
   "execution_count": 31,
   "metadata": {
    "tags": []
   },
   "outputs": [
    {
     "ename": "ModuleNotFoundError",
     "evalue": "No module named 'pycountry'",
     "output_type": "error",
     "traceback": [
      "\u001b[1;31m---------------------------------------------------------------------------\u001b[0m",
      "\u001b[1;31mModuleNotFoundError\u001b[0m                       Traceback (most recent call last)",
      "\u001b[1;32m~\\AppData\\Local\\Temp/ipykernel_16820/3307969531.py\u001b[0m in \u001b[0;36m<module>\u001b[1;34m\u001b[0m\n\u001b[1;32m----> 1\u001b[1;33m \u001b[1;32mimport\u001b[0m \u001b[0mpycountry\u001b[0m\u001b[1;33m\u001b[0m\u001b[1;33m\u001b[0m\u001b[0m\n\u001b[0m\u001b[0;32m      2\u001b[0m \u001b[1;32mdef\u001b[0m \u001b[0malpha3code\u001b[0m\u001b[1;33m(\u001b[0m\u001b[0mcolumn\u001b[0m\u001b[1;33m)\u001b[0m\u001b[1;33m:\u001b[0m\u001b[1;33m\u001b[0m\u001b[1;33m\u001b[0m\u001b[0m\n\u001b[0;32m      3\u001b[0m     \u001b[0mCODE\u001b[0m\u001b[1;33m=\u001b[0m\u001b[1;33m[\u001b[0m\u001b[1;33m]\u001b[0m\u001b[1;33m\u001b[0m\u001b[1;33m\u001b[0m\u001b[0m\n\u001b[0;32m      4\u001b[0m     \u001b[1;32mfor\u001b[0m \u001b[0mcountry\u001b[0m \u001b[1;32min\u001b[0m \u001b[0mcolumn\u001b[0m\u001b[1;33m:\u001b[0m\u001b[1;33m\u001b[0m\u001b[1;33m\u001b[0m\u001b[0m\n\u001b[0;32m      5\u001b[0m         \u001b[1;32mtry\u001b[0m\u001b[1;33m:\u001b[0m\u001b[1;33m\u001b[0m\u001b[1;33m\u001b[0m\u001b[0m\n",
      "\u001b[1;31mModuleNotFoundError\u001b[0m: No module named 'pycountry'"
     ]
    }
   ],
   "source": [
    "import pycountry \n",
    "def alpha3code(column):\n",
    "    CODE=[]\n",
    "    for country in column:\n",
    "        try:\n",
    "            code=pycountry.countries.get(name=country).alpha_3\n",
    "           # .alpha_3 means 3-letter country code \n",
    "           # .alpha_2 means 2-letter country code\n",
    "            CODE.append(code)\n",
    "        except:\n",
    "            CODE.append('None')\n",
    "    return CODE\n",
    "# create a column for code \n",
    "df['CODE']=alpha3code(df.Country)\n",
    "df.head(5)"
   ]
  },
  {
   "cell_type": "markdown",
   "metadata": {},
   "source": [
    "### **Reference:** https://melaniesoek0120.medium.com/data-visualization-how-to-plot-a-map-with-geopandas-in-python-73b10dcd4b4b|"
   ]
  },
  {
   "cell_type": "code",
   "execution_count": 22,
   "metadata": {
    "execution": {
     "iopub.execute_input": "2022-04-30T15:58:22.709603Z",
     "iopub.status.busy": "2022-04-30T15:58:22.707519Z",
     "iopub.status.idle": "2022-04-30T15:58:23.683983Z",
     "shell.execute_reply": "2022-04-30T15:58:23.683200Z",
     "shell.execute_reply.started": "2022-04-30T15:58:22.709542Z"
    }
   },
   "outputs": [],
   "source": [
    "import geopandas\n",
    "# 'naturalearth_lowres' is geopandas datasets so we can use it directly\n",
    "world = geopandas.read_file(geopandas.datasets.get_path('naturalearth_lowres'))\n",
    "# rename the columns so that we can merge with our data\n",
    "world.columns=['pop_est', 'continent', 'name', 'CODE', 'gdp_md_est', 'geometry']\n",
    "# then merge with our data \n",
    "merge=pd.merge(world,df,on='CODE')\n",
    "\n",
    "location=pd.read_csv('https://raw.githubusercontent.com/melanieshi0120/COVID-19_global_time_series_panel_data/master/data/countries_latitude_longitude.csv')\n",
    "\n",
    "merge = merge.merge(location,on='name').sort_values(by='Number_of_Deaths',ascending=False).reset_index()"
   ]
  },
  {
   "cell_type": "code",
   "execution_count": 23,
   "metadata": {
    "execution": {
     "iopub.execute_input": "2022-04-30T15:58:25.457659Z",
     "iopub.status.busy": "2022-04-30T15:58:25.457210Z",
     "iopub.status.idle": "2022-04-30T15:58:25.517730Z",
     "shell.execute_reply": "2022-04-30T15:58:25.516865Z",
     "shell.execute_reply.started": "2022-04-30T15:58:25.457628Z"
    }
   },
   "outputs": [],
   "source": [
    "merge"
   ]
  },
  {
   "cell_type": "code",
   "execution_count": 24,
   "metadata": {
    "execution": {
     "iopub.execute_input": "2022-04-30T15:58:26.974659Z",
     "iopub.status.busy": "2022-04-30T15:58:26.973908Z",
     "iopub.status.idle": "2022-04-30T15:58:27.100331Z",
     "shell.execute_reply": "2022-04-30T15:58:27.099875Z",
     "shell.execute_reply.started": "2022-04-30T15:58:26.974610Z"
    }
   },
   "outputs": [],
   "source": [
    "merge.to_csv('Final_Map.csv')"
   ]
  },
  {
   "cell_type": "code",
   "execution_count": 25,
   "metadata": {
    "execution": {
     "iopub.execute_input": "2022-04-30T15:58:28.013704Z",
     "iopub.status.busy": "2022-04-30T15:58:28.013402Z",
     "iopub.status.idle": "2022-04-30T15:58:29.593661Z",
     "shell.execute_reply": "2022-04-30T15:58:29.592851Z",
     "shell.execute_reply.started": "2022-04-30T15:58:28.013683Z"
    }
   },
   "outputs": [],
   "source": [
    "merge.plot(column='Number_of_Deaths', scheme=\"quantiles\",\n",
    "           figsize=(25, 20),\n",
    "           legend=True,cmap='coolwarm')\n",
    "plt.title('Maritime disaster deaths in different countries',fontsize=25)\n",
    "# add countries names and number of deaths \n",
    "for i in range(0,10):\n",
    "    plt.text(float(merge.longitude[i]),float(merge.latitude[i]),str(merge.Country[i]),size=10)\n",
    "plt.show()"
   ]
  },
  {
   "cell_type": "code",
   "execution_count": 30,
   "metadata": {
    "execution": {
     "iopub.execute_input": "2022-04-30T16:01:17.368812Z",
     "iopub.status.busy": "2022-04-30T16:01:17.368447Z",
     "iopub.status.idle": "2022-04-30T16:01:17.424112Z",
     "shell.execute_reply": "2022-04-30T16:01:17.423533Z",
     "shell.execute_reply.started": "2022-04-30T16:01:17.368786Z"
    }
   },
   "outputs": [],
   "source": [
    "import plotly.express as px\n",
    "fig = px.scatter_geo(merge, locations=\"CODE\", color=\"Number_of_Deaths\",\n",
    "                     hover_name=\"Country\", size=\"Number_of_Deaths\",\n",
    "                     projection=\"natural earth\")\n",
    "fig.show()"
   ]
  },
  {
   "cell_type": "code",
   "execution_count": null,
   "metadata": {},
   "outputs": [],
   "source": []
  }
 ],
 "metadata": {
  "kernelspec": {
   "display_name": "Python 3 (ipykernel)",
   "language": "python",
   "name": "python3"
  },
  "language_info": {
   "codemirror_mode": {
    "name": "ipython",
    "version": 3
   },
   "file_extension": ".py",
   "mimetype": "text/x-python",
   "name": "python",
   "nbconvert_exporter": "python",
   "pygments_lexer": "ipython3",
   "version": "3.9.7"
  }
 },
 "nbformat": 4,
 "nbformat_minor": 4
}
