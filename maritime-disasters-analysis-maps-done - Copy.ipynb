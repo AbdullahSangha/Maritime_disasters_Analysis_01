{
 "cells": [
  {
   "cell_type": "markdown",
   "metadata": {},
   "source": [
    "# Import Necessary Libraries"
   ]
  },
  {
   "cell_type": "code",
   "execution_count": 34,
   "metadata": {
    "tags": []
   },
   "outputs": [],
   "source": [
    "import pandas as pd \n",
    "import numpy as np\n",
    "import matplotlib.pyplot as plt\n",
    "import seaborn as sns"
   ]
  },
  {
   "cell_type": "markdown",
   "metadata": {},
   "source": [
    "# Explore Dataset"
   ]
  },
  {
   "cell_type": "code",
   "execution_count": 3,
   "metadata": {
    "tags": []
   },
   "outputs": [],
   "source": [
    "df = pd.read_csv('Maritime disasters of the 20th century.csv', index_col=0)"
   ]
  },
  {
   "cell_type": "code",
   "execution_count": 4,
   "metadata": {
    "tags": []
   },
   "outputs": [
    {
     "data": {
      "text/html": [
       "<div>\n",
       "<style scoped>\n",
       "    .dataframe tbody tr th:only-of-type {\n",
       "        vertical-align: middle;\n",
       "    }\n",
       "\n",
       "    .dataframe tbody tr th {\n",
       "        vertical-align: top;\n",
       "    }\n",
       "\n",
       "    .dataframe thead th {\n",
       "        text-align: right;\n",
       "    }\n",
       "</style>\n",
       "<table border=\"1\" class=\"dataframe\">\n",
       "  <thead>\n",
       "    <tr style=\"text-align: right;\">\n",
       "      <th></th>\n",
       "      <th>The year of the disaster</th>\n",
       "      <th>The country ship belongs to</th>\n",
       "      <th>The name of the ship</th>\n",
       "      <th>Number of deaths</th>\n",
       "    </tr>\n",
       "  </thead>\n",
       "  <tbody>\n",
       "    <tr>\n",
       "      <th>0</th>\n",
       "      <td>1987</td>\n",
       "      <td>Philippines</td>\n",
       "      <td>Dona Paz</td>\n",
       "      <td>4386</td>\n",
       "    </tr>\n",
       "    <tr>\n",
       "      <th>1</th>\n",
       "      <td>1948</td>\n",
       "      <td>China</td>\n",
       "      <td>Kiangya</td>\n",
       "      <td>2750</td>\n",
       "    </tr>\n",
       "    <tr>\n",
       "      <th>2</th>\n",
       "      <td>1917</td>\n",
       "      <td>Canada</td>\n",
       "      <td>Mont Blanc</td>\n",
       "      <td>1950</td>\n",
       "    </tr>\n",
       "    <tr>\n",
       "      <th>3</th>\n",
       "      <td>1912</td>\n",
       "      <td>UK</td>\n",
       "      <td>RMS Titanic</td>\n",
       "      <td>1517</td>\n",
       "    </tr>\n",
       "    <tr>\n",
       "      <th>4</th>\n",
       "      <td>1949</td>\n",
       "      <td>China</td>\n",
       "      <td>Taiping</td>\n",
       "      <td>1500</td>\n",
       "    </tr>\n",
       "    <tr>\n",
       "      <th>...</th>\n",
       "      <td>...</td>\n",
       "      <td>...</td>\n",
       "      <td>...</td>\n",
       "      <td>...</td>\n",
       "    </tr>\n",
       "    <tr>\n",
       "      <th>158</th>\n",
       "      <td>1975</td>\n",
       "      <td>USA</td>\n",
       "      <td>SS Edmund Fitzgerald</td>\n",
       "      <td>29</td>\n",
       "    </tr>\n",
       "    <tr>\n",
       "      <th>159</th>\n",
       "      <td>1978</td>\n",
       "      <td>Germany</td>\n",
       "      <td>MS Munchen</td>\n",
       "      <td>28</td>\n",
       "    </tr>\n",
       "    <tr>\n",
       "      <th>160</th>\n",
       "      <td>1981</td>\n",
       "      <td>Israel</td>\n",
       "      <td>The Mezada</td>\n",
       "      <td>24</td>\n",
       "    </tr>\n",
       "    <tr>\n",
       "      <th>161</th>\n",
       "      <td>1948</td>\n",
       "      <td>Malta</td>\n",
       "      <td>NaN</td>\n",
       "      <td>23</td>\n",
       "    </tr>\n",
       "    <tr>\n",
       "      <th>162</th>\n",
       "      <td>1974</td>\n",
       "      <td>Soviet Union</td>\n",
       "      <td>Tixi</td>\n",
       "      <td>45</td>\n",
       "    </tr>\n",
       "  </tbody>\n",
       "</table>\n",
       "<p>163 rows × 4 columns</p>\n",
       "</div>"
      ],
      "text/plain": [
       "     The year of the disaster The country ship belongs to  \\\n",
       "0                        1987                 Philippines   \n",
       "1                        1948                       China   \n",
       "2                        1917                      Canada   \n",
       "3                        1912                          UK   \n",
       "4                        1949                       China   \n",
       "..                        ...                         ...   \n",
       "158                      1975                         USA   \n",
       "159                      1978                     Germany   \n",
       "160                      1981                      Israel   \n",
       "161                      1948                       Malta   \n",
       "162                      1974                Soviet Union   \n",
       "\n",
       "     The name of the ship  Number of deaths  \n",
       "0                Dona Paz              4386  \n",
       "1                 Kiangya              2750  \n",
       "2              Mont Blanc              1950  \n",
       "3             RMS Titanic              1517  \n",
       "4                 Taiping              1500  \n",
       "..                    ...               ...  \n",
       "158  SS Edmund Fitzgerald                29  \n",
       "159            MS Munchen                28  \n",
       "160            The Mezada                24  \n",
       "161                   NaN                23  \n",
       "162                  Tixi                45  \n",
       "\n",
       "[163 rows x 4 columns]"
      ]
     },
     "execution_count": 4,
     "metadata": {},
     "output_type": "execute_result"
    }
   ],
   "source": [
    "df"
   ]
  },
  {
   "cell_type": "markdown",
   "metadata": {},
   "source": [
    "# Data Preprocessing"
   ]
  },
  {
   "cell_type": "code",
   "execution_count": 5,
   "metadata": {
    "tags": []
   },
   "outputs": [],
   "source": [
    "# Create a New Interval Column\n",
    "df['Interval'] = (10 * (df['The year of the disaster'] // 10)).astype(str) + 's'"
   ]
  },
  {
   "cell_type": "code",
   "execution_count": 6,
   "metadata": {
    "tags": []
   },
   "outputs": [
    {
     "data": {
      "text/plain": [
       "The year of the disaster        int64\n",
       "The country ship belongs to    object\n",
       "The name of the ship           object\n",
       "Number of deaths                int64\n",
       "Interval                       object\n",
       "dtype: object"
      ]
     },
     "execution_count": 6,
     "metadata": {},
     "output_type": "execute_result"
    }
   ],
   "source": [
    "df.dtypes"
   ]
  },
  {
   "cell_type": "code",
   "execution_count": 7,
   "metadata": {
    "tags": []
   },
   "outputs": [
    {
     "data": {
      "text/html": [
       "<div>\n",
       "<style scoped>\n",
       "    .dataframe tbody tr th:only-of-type {\n",
       "        vertical-align: middle;\n",
       "    }\n",
       "\n",
       "    .dataframe tbody tr th {\n",
       "        vertical-align: top;\n",
       "    }\n",
       "\n",
       "    .dataframe thead th {\n",
       "        text-align: right;\n",
       "    }\n",
       "</style>\n",
       "<table border=\"1\" class=\"dataframe\">\n",
       "  <thead>\n",
       "    <tr style=\"text-align: right;\">\n",
       "      <th></th>\n",
       "      <th>The year of the disaster</th>\n",
       "      <th>The country ship belongs to</th>\n",
       "      <th>The name of the ship</th>\n",
       "      <th>Number of deaths</th>\n",
       "      <th>Interval</th>\n",
       "    </tr>\n",
       "  </thead>\n",
       "  <tbody>\n",
       "    <tr>\n",
       "      <th>0</th>\n",
       "      <td>1987</td>\n",
       "      <td>Philippines</td>\n",
       "      <td>Dona Paz</td>\n",
       "      <td>4386</td>\n",
       "      <td>1980s</td>\n",
       "    </tr>\n",
       "    <tr>\n",
       "      <th>1</th>\n",
       "      <td>1948</td>\n",
       "      <td>China</td>\n",
       "      <td>Kiangya</td>\n",
       "      <td>2750</td>\n",
       "      <td>1940s</td>\n",
       "    </tr>\n",
       "    <tr>\n",
       "      <th>2</th>\n",
       "      <td>1917</td>\n",
       "      <td>Canada</td>\n",
       "      <td>Mont Blanc</td>\n",
       "      <td>1950</td>\n",
       "      <td>1910s</td>\n",
       "    </tr>\n",
       "    <tr>\n",
       "      <th>3</th>\n",
       "      <td>1912</td>\n",
       "      <td>UK</td>\n",
       "      <td>RMS Titanic</td>\n",
       "      <td>1517</td>\n",
       "      <td>1910s</td>\n",
       "    </tr>\n",
       "    <tr>\n",
       "      <th>4</th>\n",
       "      <td>1949</td>\n",
       "      <td>China</td>\n",
       "      <td>Taiping</td>\n",
       "      <td>1500</td>\n",
       "      <td>1940s</td>\n",
       "    </tr>\n",
       "  </tbody>\n",
       "</table>\n",
       "</div>"
      ],
      "text/plain": [
       "   The year of the disaster The country ship belongs to The name of the ship  \\\n",
       "0                      1987                 Philippines             Dona Paz   \n",
       "1                      1948                       China              Kiangya   \n",
       "2                      1917                      Canada           Mont Blanc   \n",
       "3                      1912                          UK          RMS Titanic   \n",
       "4                      1949                       China              Taiping   \n",
       "\n",
       "   Number of deaths Interval  \n",
       "0              4386    1980s  \n",
       "1              2750    1940s  \n",
       "2              1950    1910s  \n",
       "3              1517    1910s  \n",
       "4              1500    1940s  "
      ]
     },
     "execution_count": 7,
     "metadata": {},
     "output_type": "execute_result"
    }
   ],
   "source": [
    "df.head(5)"
   ]
  },
  {
   "cell_type": "code",
   "execution_count": 8,
   "metadata": {
    "tags": []
   },
   "outputs": [
    {
     "data": {
      "text/plain": [
       "<AxesSubplot:>"
      ]
     },
     "execution_count": 8,
     "metadata": {},
     "output_type": "execute_result"
    },
    {
     "data": {
      "image/png": "[encoded data removed]",
      "text/plain": [
       "<Figure size 432x288 with 1 Axes>"
      ]
     },
     "metadata": {
      "needs_background": "light"
     },
     "output_type": "display_data"
    }
   ],
   "source": [
    "# Plot to see null values in our data\n",
    "sns.heatmap(df.isnull(), cbar=False)"
   ]
  },
  {
   "cell_type": "code",
   "execution_count": 9,
   "metadata": {
    "tags": []
   },
   "outputs": [
    {
     "data": {
      "text/html": [
       "<div>\n",
       "<style scoped>\n",
       "    .dataframe tbody tr th:only-of-type {\n",
       "        vertical-align: middle;\n",
       "    }\n",
       "\n",
       "    .dataframe tbody tr th {\n",
       "        vertical-align: top;\n",
       "    }\n",
       "\n",
       "    .dataframe thead th {\n",
       "        text-align: right;\n",
       "    }\n",
       "</style>\n",
       "<table border=\"1\" class=\"dataframe\">\n",
       "  <thead>\n",
       "    <tr style=\"text-align: right;\">\n",
       "      <th></th>\n",
       "      <th>column_name</th>\n",
       "      <th>percent_missing</th>\n",
       "    </tr>\n",
       "  </thead>\n",
       "  <tbody>\n",
       "    <tr>\n",
       "      <th>The year of the disaster</th>\n",
       "      <td>The year of the disaster</td>\n",
       "      <td>0.000000</td>\n",
       "    </tr>\n",
       "    <tr>\n",
       "      <th>The country ship belongs to</th>\n",
       "      <td>The country ship belongs to</td>\n",
       "      <td>0.613497</td>\n",
       "    </tr>\n",
       "    <tr>\n",
       "      <th>The name of the ship</th>\n",
       "      <td>The name of the ship</td>\n",
       "      <td>1.840491</td>\n",
       "    </tr>\n",
       "    <tr>\n",
       "      <th>Number of deaths</th>\n",
       "      <td>Number of deaths</td>\n",
       "      <td>0.000000</td>\n",
       "    </tr>\n",
       "    <tr>\n",
       "      <th>Interval</th>\n",
       "      <td>Interval</td>\n",
       "      <td>0.000000</td>\n",
       "    </tr>\n",
       "  </tbody>\n",
       "</table>\n",
       "</div>"
      ],
      "text/plain": [
       "                                             column_name  percent_missing\n",
       "The year of the disaster        The year of the disaster         0.000000\n",
       "The country ship belongs to  The country ship belongs to         0.613497\n",
       "The name of the ship                The name of the ship         1.840491\n",
       "Number of deaths                        Number of deaths         0.000000\n",
       "Interval                                        Interval         0.000000"
      ]
     },
     "execution_count": 9,
     "metadata": {},
     "output_type": "execute_result"
    }
   ],
   "source": [
    "# Null Value Percentage Per column\n",
    "percent_missing = df.isnull().sum() * 100 / len(df)\n",
    "missing_value_df = pd.DataFrame({'column_name': df.columns,\n",
    "                                 'percent_missing': percent_missing})\n",
    "missing_value_df"
   ]
  },
  {
   "cell_type": "code",
   "execution_count": 10,
   "metadata": {
    "tags": []
   },
   "outputs": [],
   "source": [
    "df.to_csv('FINAL.csv')"
   ]
  },
  {
   "cell_type": "markdown",
   "metadata": {},
   "source": [
    "# EDA"
   ]
  },
  {
   "cell_type": "code",
   "execution_count": 11,
   "metadata": {
    "tags": []
   },
   "outputs": [
    {
     "data": {
      "image/png": "[encoded data removed]",
      "text/plain": [
       "<Figure size 576x360 with 2 Axes>"
      ]
     },
     "metadata": {
      "needs_background": "light"
     },
     "output_type": "display_data"
    }
   ],
   "source": [
    "# plot correlation matrix of numeric variables\n",
    "f = plt.figure(figsize=(8,5))\n",
    "plt.matshow(df.corr(), fignum=f.number)\n",
    "plt.xticks(range(df.select_dtypes(['number']).shape[1]), df.select_dtypes(['number']).columns, fontsize=14, rotation=45)\n",
    "plt.yticks(range(df.select_dtypes(['number']).shape[1]), df.select_dtypes(['number']).columns, fontsize=14)\n",
    "cb = plt.colorbar()\n",
    "cb.ax.tick_params(labelsize=14)"
   ]
  },
  {
   "cell_type": "code",
   "execution_count": 12,
   "metadata": {
    "tags": []
   },
   "outputs": [],
   "source": [
    "data = df\n",
    "cad = data[['The country ship belongs to','Number of deaths']].groupby(['The country ship belongs to']).sum().reset_index().sort_values('Number of deaths', ascending = False)"
   ]
  },
  {
   "cell_type": "code",
   "execution_count": 13,
   "metadata": {
    "tags": []
   },
   "outputs": [
    {
     "data": {
      "text/html": [
       "<div>\n",
       "<style scoped>\n",
       "    .dataframe tbody tr th:only-of-type {\n",
       "        vertical-align: middle;\n",
       "    }\n",
       "\n",
       "    .dataframe tbody tr th {\n",
       "        vertical-align: top;\n",
       "    }\n",
       "\n",
       "    .dataframe thead th {\n",
       "        text-align: right;\n",
       "    }\n",
       "</style>\n",
       "<table border=\"1\" class=\"dataframe\">\n",
       "  <thead>\n",
       "    <tr style=\"text-align: right;\">\n",
       "      <th></th>\n",
       "      <th>The country ship belongs to</th>\n",
       "      <th>Number of deaths</th>\n",
       "    </tr>\n",
       "  </thead>\n",
       "  <tbody>\n",
       "    <tr>\n",
       "      <th>30</th>\n",
       "      <td>Philippines</td>\n",
       "      <td>5520</td>\n",
       "    </tr>\n",
       "    <tr>\n",
       "      <th>43</th>\n",
       "      <td>UK</td>\n",
       "      <td>5314</td>\n",
       "    </tr>\n",
       "    <tr>\n",
       "      <th>44</th>\n",
       "      <td>USA</td>\n",
       "      <td>5062</td>\n",
       "    </tr>\n",
       "    <tr>\n",
       "      <th>6</th>\n",
       "      <td>China</td>\n",
       "      <td>4996</td>\n",
       "    </tr>\n",
       "    <tr>\n",
       "      <th>21</th>\n",
       "      <td>Japan</td>\n",
       "      <td>3744</td>\n",
       "    </tr>\n",
       "  </tbody>\n",
       "</table>\n",
       "</div>"
      ],
      "text/plain": [
       "   The country ship belongs to  Number of deaths\n",
       "30                 Philippines              5520\n",
       "43                          UK              5314\n",
       "44                         USA              5062\n",
       "6                        China              4996\n",
       "21                       Japan              3744"
      ]
     },
     "execution_count": 13,
     "metadata": {},
     "output_type": "execute_result"
    }
   ],
   "source": [
    "cad.head(5)"
   ]
  },
  {
   "cell_type": "code",
   "execution_count": 14,
   "metadata": {
    "tags": []
   },
   "outputs": [
    {
     "data": {
      "text/plain": [
       "Text(0.5, 1.0, 'Total Number of deaths with respect to Countries')"
      ]
     },
     "execution_count": 14,
     "metadata": {},
     "output_type": "execute_result"
    },
    {
     "data": {
      "image/png": "[encoded data removed]",
      "text/plain": [
       "<Figure size 1080x1080 with 1 Axes>"
      ]
     },
     "metadata": {
      "needs_background": "light"
     },
     "output_type": "display_data"
    }
   ],
   "source": [
    "plt.figure(figsize = (15,15))\n",
    "sns.barplot(y = 'The country ship belongs to', x = 'Number of deaths', data = cad, palette = 'mako')\n",
    "plt.xlabel('Total Number of deaths', size = 15, color='midnightblue')\n",
    "plt.ylabel('')\n",
    "plt.xticks(color='midnightblue')\n",
    "plt.yticks(color='midnightblue')\n",
    "plt.title('Total Number of deaths with respect to Countries', size = 15, color='midnightblue')"
   ]
  },
  {
   "cell_type": "code",
   "execution_count": 15,
   "metadata": {
    "tags": []
   },
   "outputs": [
    {
     "data": {
      "text/html": [
       "<div>\n",
       "<style scoped>\n",
       "    .dataframe tbody tr th:only-of-type {\n",
       "        vertical-align: middle;\n",
       "    }\n",
       "\n",
       "    .dataframe tbody tr th {\n",
       "        vertical-align: top;\n",
       "    }\n",
       "\n",
       "    .dataframe thead th {\n",
       "        text-align: right;\n",
       "    }\n",
       "</style>\n",
       "<table border=\"1\" class=\"dataframe\">\n",
       "  <thead>\n",
       "    <tr style=\"text-align: right;\">\n",
       "      <th></th>\n",
       "      <th>The year of the disaster</th>\n",
       "      <th>The country ship belongs to</th>\n",
       "      <th>The name of the ship</th>\n",
       "      <th>Number of deaths</th>\n",
       "      <th>Interval</th>\n",
       "    </tr>\n",
       "  </thead>\n",
       "  <tbody>\n",
       "    <tr>\n",
       "      <th>0</th>\n",
       "      <td>1987</td>\n",
       "      <td>Philippines</td>\n",
       "      <td>Dona Paz</td>\n",
       "      <td>4386</td>\n",
       "      <td>1980s</td>\n",
       "    </tr>\n",
       "    <tr>\n",
       "      <th>1</th>\n",
       "      <td>1948</td>\n",
       "      <td>China</td>\n",
       "      <td>Kiangya</td>\n",
       "      <td>2750</td>\n",
       "      <td>1940s</td>\n",
       "    </tr>\n",
       "    <tr>\n",
       "      <th>2</th>\n",
       "      <td>1917</td>\n",
       "      <td>Canada</td>\n",
       "      <td>Mont Blanc</td>\n",
       "      <td>1950</td>\n",
       "      <td>1910s</td>\n",
       "    </tr>\n",
       "    <tr>\n",
       "      <th>3</th>\n",
       "      <td>1912</td>\n",
       "      <td>UK</td>\n",
       "      <td>RMS Titanic</td>\n",
       "      <td>1517</td>\n",
       "      <td>1910s</td>\n",
       "    </tr>\n",
       "    <tr>\n",
       "      <th>4</th>\n",
       "      <td>1949</td>\n",
       "      <td>China</td>\n",
       "      <td>Taiping</td>\n",
       "      <td>1500</td>\n",
       "      <td>1940s</td>\n",
       "    </tr>\n",
       "  </tbody>\n",
       "</table>\n",
       "</div>"
      ],
      "text/plain": [
       "   The year of the disaster The country ship belongs to The name of the ship  \\\n",
       "0                      1987                 Philippines             Dona Paz   \n",
       "1                      1948                       China              Kiangya   \n",
       "2                      1917                      Canada           Mont Blanc   \n",
       "3                      1912                          UK          RMS Titanic   \n",
       "4                      1949                       China              Taiping   \n",
       "\n",
       "   Number of deaths Interval  \n",
       "0              4386    1980s  \n",
       "1              2750    1940s  \n",
       "2              1950    1910s  \n",
       "3              1517    1910s  \n",
       "4              1500    1940s  "
      ]
     },
     "execution_count": 15,
     "metadata": {},
     "output_type": "execute_result"
    }
   ],
   "source": [
    "df.head(5)"
   ]
  },
  {
   "cell_type": "code",
   "execution_count": 16,
   "metadata": {
    "tags": []
   },
   "outputs": [],
   "source": [
    "data = df\n",
    "IAD = data[['Interval','Number of deaths']].groupby(['Interval']).sum().reset_index().sort_values('Number of deaths', ascending = False)"
   ]
  },
  {
   "cell_type": "code",
   "execution_count": 17,
   "metadata": {
    "tags": []
   },
   "outputs": [
    {
     "data": {
      "text/html": [
       "<div>\n",
       "<style scoped>\n",
       "    .dataframe tbody tr th:only-of-type {\n",
       "        vertical-align: middle;\n",
       "    }\n",
       "\n",
       "    .dataframe tbody tr th {\n",
       "        vertical-align: top;\n",
       "    }\n",
       "\n",
       "    .dataframe thead th {\n",
       "        text-align: right;\n",
       "    }\n",
       "</style>\n",
       "<table border=\"1\" class=\"dataframe\">\n",
       "  <thead>\n",
       "    <tr style=\"text-align: right;\">\n",
       "      <th></th>\n",
       "      <th>Interval</th>\n",
       "      <th>Number of deaths</th>\n",
       "    </tr>\n",
       "  </thead>\n",
       "  <tbody>\n",
       "    <tr>\n",
       "      <th>1</th>\n",
       "      <td>1910s</td>\n",
       "      <td>9613</td>\n",
       "    </tr>\n",
       "    <tr>\n",
       "      <th>8</th>\n",
       "      <td>1980s</td>\n",
       "      <td>8413</td>\n",
       "    </tr>\n",
       "    <tr>\n",
       "      <th>4</th>\n",
       "      <td>1940s</td>\n",
       "      <td>5878</td>\n",
       "    </tr>\n",
       "    <tr>\n",
       "      <th>9</th>\n",
       "      <td>1990s</td>\n",
       "      <td>5725</td>\n",
       "    </tr>\n",
       "    <tr>\n",
       "      <th>0</th>\n",
       "      <td>1900s</td>\n",
       "      <td>5053</td>\n",
       "    </tr>\n",
       "    <tr>\n",
       "      <th>2</th>\n",
       "      <td>1920s</td>\n",
       "      <td>4536</td>\n",
       "    </tr>\n",
       "    <tr>\n",
       "      <th>5</th>\n",
       "      <td>1950s</td>\n",
       "      <td>3564</td>\n",
       "    </tr>\n",
       "    <tr>\n",
       "      <th>7</th>\n",
       "      <td>1970s</td>\n",
       "      <td>1481</td>\n",
       "    </tr>\n",
       "    <tr>\n",
       "      <th>6</th>\n",
       "      <td>1960s</td>\n",
       "      <td>1194</td>\n",
       "    </tr>\n",
       "    <tr>\n",
       "      <th>3</th>\n",
       "      <td>1930s</td>\n",
       "      <td>1176</td>\n",
       "    </tr>\n",
       "    <tr>\n",
       "      <th>10</th>\n",
       "      <td>2000s</td>\n",
       "      <td>681</td>\n",
       "    </tr>\n",
       "  </tbody>\n",
       "</table>\n",
       "</div>"
      ],
      "text/plain": [
       "   Interval  Number of deaths\n",
       "1     1910s              9613\n",
       "8     1980s              8413\n",
       "4     1940s              5878\n",
       "9     1990s              5725\n",
       "0     1900s              5053\n",
       "2     1920s              4536\n",
       "5     1950s              3564\n",
       "7     1970s              1481\n",
       "6     1960s              1194\n",
       "3     1930s              1176\n",
       "10    2000s               681"
      ]
     },
     "execution_count": 17,
     "metadata": {},
     "output_type": "execute_result"
    }
   ],
   "source": [
    "IAD"
   ]
  },
  {
   "cell_type": "code",
   "execution_count": 18,
   "metadata": {
    "tags": []
   },
   "outputs": [
    {
     "data": {
      "text/plain": [
       "Text(0.5, 1.0, 'Total Number of deaths in respective Decade')"
      ]
     },
     "execution_count": 18,
     "metadata": {},
     "output_type": "execute_result"
    },
    {
     "data": {
      "image/png": "[encoded data removed]",
      "text/plain": [
       "<Figure size 1296x1080 with 1 Axes>"
      ]
     },
     "metadata": {
      "needs_background": "light"
     },
     "output_type": "display_data"
    }
   ],
   "source": [
    "plt.figure(figsize = (18,15))\n",
    "sns.barplot(y = 'Number of deaths', x = 'Interval', data = IAD, palette = 'magma')\n",
    "plt.xlabel('Respective Decade', size = 15, color='midnightblue')\n",
    "plt.ylabel('Total Number of deaths', size = 15, color='midnightblue')\n",
    "plt.xticks(color='midnightblue')\n",
    "plt.yticks(color='midnightblue')\n",
    "plt.title('Total Number of deaths in respective Decade', size = 15, color='midnightblue')"
   ]
  },
  {
   "cell_type": "code",
   "execution_count": 19,
   "metadata": {
    "tags": []
   },
   "outputs": [
    {
     "name": "stdout",
     "output_type": "stream",
     "text": [
      "Dona Paz\n",
      "Kiangya\n",
      "Mont Blanc\n",
      "RMS Titanic\n",
      "Taiping\n",
      "Toya Maru\n",
      "RMS Empress of Ireland\n",
      "General Slocum\n",
      "Kiche Maru\n",
      "Hong Moh\n",
      "Wusung\n",
      "Estonia\n",
      "Eastland\n",
      "Bukoba\n",
      "Indigirka\n",
      "Camorta\n",
      "HMS Bulwark\n",
      "Norge\n",
      "Ramdas\n",
      "Novorossiysk\n",
      "Grandcamp\n",
      "Tamponas II\n",
      "SS Afrique\n",
      "Ferry Neptune\n",
      "Shamia\n",
      "Valbanera\n",
      "Cahaya Bahari\n",
      "Salem Express\n",
      "Principe de Asturias\n",
      "Hongxing 245/240\n",
      "Admiral Nakhimov\n",
      "Unnamed passenger ship\n",
      "Dona Marilyn\n",
      "KM Bismas Raya 2\n",
      "Princess Sophia\n",
      "Namyoung-ho\n",
      "Yoshino\n",
      "Principessa Mafalda\n",
      "Dashun\n",
      "Harta Rimba\n",
      "Liberte\n",
      "Sobral Santos ll\n",
      "Sirio\n",
      "Seohae Ferry\n",
      "F174\n",
      "Uskudar\n",
      "Likoni Ferry\n",
      "Angamos\n",
      "Gurita\n",
      "nan\n",
      "Dara\n",
      "Heraklion\n",
      "MV Christena\n",
      "Changgyeong\n",
      "Sovnarkom\n",
      "Aquidaba\n",
      "Waratah\n",
      "Matsushima\n",
      "Iolaire\n",
      "Haisal\n",
      "Herald of Free Enterprise\n",
      "Aleksandr Suvorov\n",
      "Don Juan\n",
      "USS Hobson\n",
      "Southern Cross\n",
      "Shiun Maru\n",
      "Scandinavian Star\n",
      "Princess of the Orient\n",
      "Larchmont\n",
      "Koombana\n",
      "Mogosoaia\n",
      "Majakovskis Riga\n",
      "Cebu City\n",
      "Moby Prince\n",
      "Morro Castle\n",
      "Kuru\n",
      "City of Rio de Janeiro\n",
      "Princess Victoria\n",
      "Pamir\n",
      "Volturno\n",
      "USS Thresher\n",
      "TSMS Lakonia\n",
      "Berlin\n",
      "Hilda\n",
      "Yongala\n",
      "Pulau Kidjang\n",
      "Iena\n",
      "Sardinia\n",
      "K-141 Kursk\n",
      "Noronic\n",
      "Valencia\n",
      "Vestris\n",
      "Star of Bengal\n",
      "Orazio\n",
      "Dalstroy\n",
      "USS Bennington\n",
      "HMS Thetis\n",
      "USS Scorpion\n",
      "Hans Hedtoft\n",
      "SS Emir\n",
      "Florizel\n",
      "Seacrest\n",
      "Connemara\n",
      "Yarmouth Castle\n",
      "Columbia\n",
      "Topolobampo\n",
      "Ocean Ranger\n",
      "Kateri i Rades\n",
      "HMAS Voyager\n",
      "Express Samina\n",
      "TCG Dumlupinar\n",
      "Datu Kalantiaw\n",
      "George Prince\n",
      "San Juan\n",
      "Spyros\n",
      "Penguin\n",
      "HMS Affray\n",
      "Kobenhavn\n",
      "USS Frank E.Evans\n",
      "Viva Antipolo VII\n",
      "STV Royston Grange\n",
      "Gretchen I\n",
      "HMS M1\n",
      "Justo Rufino Barrios II\n",
      "HMS Cobra\n",
      "HMS Truculent\n",
      "HMS K5\n",
      "USS Conestoga\n",
      "Clallam\n",
      "Asia South Korea\n",
      "Mackinac\n",
      "Jan Heweliusz\n",
      "Georges Philippar\n",
      "TEV Wahine\n",
      "Milwaukee\n",
      "Marchioness\n",
      "Minocher Cowasjee\n",
      "Canastota\n",
      "USS Iowa\n",
      "Mohawk\n",
      "Andrea Doria\n",
      "Dix\n",
      "Elingamite\n",
      "Derbyshire\n",
      "K-278 Komsomolets\n",
      "Heleanna\n",
      "Monroe\n",
      "Islander\n",
      "Sechelt\n",
      "Don\n",
      "USS Liberty\n",
      "Carl D.Bradley\n",
      "Tritonica\n",
      "William B.Davock\n",
      "Fantome\n",
      "HMHS Britannic\n",
      "Royal Pacific\n",
      "SS Edmund Fitzgerald\n",
      "MS Munchen\n",
      "The Mezada\n",
      "Tixi\n"
     ]
    }
   ],
   "source": [
    "for elem in df['The name of the ship'].unique():\n",
    "    print(elem)"
   ]
  },
  {
   "cell_type": "code",
   "execution_count": 20,
   "metadata": {
    "tags": []
   },
   "outputs": [],
   "source": [
    "data = df\n",
    "SAD = data[['The name of the ship','Number of deaths']].groupby(['The name of the ship']).sum().reset_index().sort_values('Number of deaths', ascending = False)"
   ]
  },
  {
   "cell_type": "code",
   "execution_count": 21,
   "metadata": {
    "tags": []
   },
   "outputs": [
    {
     "data": {
      "text/html": [
       "<div>\n",
       "<style scoped>\n",
       "    .dataframe tbody tr th:only-of-type {\n",
       "        vertical-align: middle;\n",
       "    }\n",
       "\n",
       "    .dataframe tbody tr th {\n",
       "        vertical-align: top;\n",
       "    }\n",
       "\n",
       "    .dataframe thead th {\n",
       "        text-align: right;\n",
       "    }\n",
       "</style>\n",
       "<table border=\"1\" class=\"dataframe\">\n",
       "  <thead>\n",
       "    <tr style=\"text-align: right;\">\n",
       "      <th></th>\n",
       "      <th>The name of the ship</th>\n",
       "      <th>Number of deaths</th>\n",
       "    </tr>\n",
       "  </thead>\n",
       "  <tbody>\n",
       "    <tr>\n",
       "      <th>27</th>\n",
       "      <td>Dona Paz</td>\n",
       "      <td>4386</td>\n",
       "    </tr>\n",
       "    <tr>\n",
       "      <th>70</th>\n",
       "      <td>Kiangya</td>\n",
       "      <td>2750</td>\n",
       "    </tr>\n",
       "    <tr>\n",
       "      <th>90</th>\n",
       "      <td>Mont Blanc</td>\n",
       "      <td>1950</td>\n",
       "    </tr>\n",
       "    <tr>\n",
       "      <th>107</th>\n",
       "      <td>RMS Titanic</td>\n",
       "      <td>1517</td>\n",
       "    </tr>\n",
       "    <tr>\n",
       "      <th>132</th>\n",
       "      <td>Taiping</td>\n",
       "      <td>1500</td>\n",
       "    </tr>\n",
       "  </tbody>\n",
       "</table>\n",
       "</div>"
      ],
      "text/plain": [
       "    The name of the ship  Number of deaths\n",
       "27              Dona Paz              4386\n",
       "70               Kiangya              2750\n",
       "90            Mont Blanc              1950\n",
       "107          RMS Titanic              1517\n",
       "132              Taiping              1500"
      ]
     },
     "execution_count": 21,
     "metadata": {},
     "output_type": "execute_result"
    }
   ],
   "source": [
    "SAD.head(5)"
   ]
  },
  {
   "cell_type": "code",
   "execution_count": 22,
   "metadata": {
    "tags": []
   },
   "outputs": [
    {
     "data": {
      "text/plain": [
       "Text(0.5, 1.0, 'Total Number of deaths against Top 30 Ships')"
      ]
     },
     "execution_count": 22,
     "metadata": {},
     "output_type": "execute_result"
    },
    {
     "data": {
      "image/png": "[encoded data removed]",
      "text/plain": [
       "<Figure size 1080x1080 with 1 Axes>"
      ]
     },
     "metadata": {
      "needs_background": "light"
     },
     "output_type": "display_data"
    }
   ],
   "source": [
    "plt.figure(figsize = (15,15))\n",
    "sns.barplot(y = 'The name of the ship', x = 'Number of deaths', data = SAD.nlargest(30, 'Number of deaths'), palette = 'magma')\n",
    "plt.xlabel('Total Number of deaths', size = 15, color='midnightblue')\n",
    "plt.ylabel('The name of the Ship', size = 15, color='midnightblue')\n",
    "plt.xticks(color='midnightblue')\n",
    "plt.yticks(color='midnightblue')\n",
    "plt.title('Total Number of deaths against Top 30 Ships', size = 15, color='midnightblue')"
   ]
  },
  {
   "cell_type": "markdown",
   "metadata": {},
   "source": [
    "# PART TWO MAPS"
   ]
  },
  {
   "cell_type": "code",
   "execution_count": 23,
   "metadata": {
    "tags": []
   },
   "outputs": [],
   "source": [
    "df = pd.read_csv('./FINAL.csv', index_col=0)"
   ]
  },
  {
   "cell_type": "code",
   "execution_count": 24,
   "metadata": {
    "tags": []
   },
   "outputs": [],
   "source": [
    "df = df.rename(columns={'The country ship belongs to': 'Country'})"
   ]
  },
  {
   "cell_type": "code",
   "execution_count": 25,
   "metadata": {
    "tags": []
   },
   "outputs": [],
   "source": [
    "df = df.rename(columns={'Number of deaths': 'Number_of_Deaths'})"
   ]
  },
  {
   "cell_type": "code",
   "execution_count": 26,
   "metadata": {
    "tags": []
   },
   "outputs": [
    {
     "data": {
      "text/html": [
       "<div>\n",
       "<style scoped>\n",
       "    .dataframe tbody tr th:only-of-type {\n",
       "        vertical-align: middle;\n",
       "    }\n",
       "\n",
       "    .dataframe tbody tr th {\n",
       "        vertical-align: top;\n",
       "    }\n",
       "\n",
       "    .dataframe thead th {\n",
       "        text-align: right;\n",
       "    }\n",
       "</style>\n",
       "<table border=\"1\" class=\"dataframe\">\n",
       "  <thead>\n",
       "    <tr style=\"text-align: right;\">\n",
       "      <th></th>\n",
       "      <th>The year of the disaster</th>\n",
       "      <th>Country</th>\n",
       "      <th>The name of the ship</th>\n",
       "      <th>Number_of_Deaths</th>\n",
       "      <th>Interval</th>\n",
       "    </tr>\n",
       "  </thead>\n",
       "  <tbody>\n",
       "    <tr>\n",
       "      <th>0</th>\n",
       "      <td>1987</td>\n",
       "      <td>Philippines</td>\n",
       "      <td>Dona Paz</td>\n",
       "      <td>4386</td>\n",
       "      <td>1980s</td>\n",
       "    </tr>\n",
       "    <tr>\n",
       "      <th>1</th>\n",
       "      <td>1948</td>\n",
       "      <td>China</td>\n",
       "      <td>Kiangya</td>\n",
       "      <td>2750</td>\n",
       "      <td>1940s</td>\n",
       "    </tr>\n",
       "    <tr>\n",
       "      <th>2</th>\n",
       "      <td>1917</td>\n",
       "      <td>Canada</td>\n",
       "      <td>Mont Blanc</td>\n",
       "      <td>1950</td>\n",
       "      <td>1910s</td>\n",
       "    </tr>\n",
       "    <tr>\n",
       "      <th>3</th>\n",
       "      <td>1912</td>\n",
       "      <td>UK</td>\n",
       "      <td>RMS Titanic</td>\n",
       "      <td>1517</td>\n",
       "      <td>1910s</td>\n",
       "    </tr>\n",
       "    <tr>\n",
       "      <th>4</th>\n",
       "      <td>1949</td>\n",
       "      <td>China</td>\n",
       "      <td>Taiping</td>\n",
       "      <td>1500</td>\n",
       "      <td>1940s</td>\n",
       "    </tr>\n",
       "  </tbody>\n",
       "</table>\n",
       "</div>"
      ],
      "text/plain": [
       "   The year of the disaster      Country The name of the ship  \\\n",
       "0                      1987  Philippines             Dona Paz   \n",
       "1                      1948        China              Kiangya   \n",
       "2                      1917       Canada           Mont Blanc   \n",
       "3                      1912           UK          RMS Titanic   \n",
       "4                      1949        China              Taiping   \n",
       "\n",
       "   Number_of_Deaths Interval  \n",
       "0              4386    1980s  \n",
       "1              2750    1940s  \n",
       "2              1950    1910s  \n",
       "3              1517    1910s  \n",
       "4              1500    1940s  "
      ]
     },
     "execution_count": 26,
     "metadata": {},
     "output_type": "execute_result"
    }
   ],
   "source": [
    "df.head(5)"
   ]
  },
  {
   "cell_type": "code",
   "execution_count": 27,
   "metadata": {
    "tags": []
   },
   "outputs": [],
   "source": [
    "df.loc[ df[\"Country\"] == \"UK\", \"Country\"] = \"United Kingdom\""
   ]
  },
  {
   "cell_type": "code",
   "execution_count": 28,
   "metadata": {
    "tags": []
   },
   "outputs": [],
   "source": [
    "df.loc[ df[\"Country\"] == \"USA\", \"Country\"] = \"United States\""
   ]
  },
  {
   "cell_type": "code",
   "execution_count": 29,
   "metadata": {
    "tags": []
   },
   "outputs": [
    {
     "data": {
      "text/html": [
       "<div>\n",
       "<style scoped>\n",
       "    .dataframe tbody tr th:only-of-type {\n",
       "        vertical-align: middle;\n",
       "    }\n",
       "\n",
       "    .dataframe tbody tr th {\n",
       "        vertical-align: top;\n",
       "    }\n",
       "\n",
       "    .dataframe thead th {\n",
       "        text-align: right;\n",
       "    }\n",
       "</style>\n",
       "<table border=\"1\" class=\"dataframe\">\n",
       "  <thead>\n",
       "    <tr style=\"text-align: right;\">\n",
       "      <th></th>\n",
       "      <th>The year of the disaster</th>\n",
       "      <th>Country</th>\n",
       "      <th>The name of the ship</th>\n",
       "      <th>Number_of_Deaths</th>\n",
       "      <th>Interval</th>\n",
       "    </tr>\n",
       "  </thead>\n",
       "  <tbody>\n",
       "    <tr>\n",
       "      <th>0</th>\n",
       "      <td>1987</td>\n",
       "      <td>Philippines</td>\n",
       "      <td>Dona Paz</td>\n",
       "      <td>4386</td>\n",
       "      <td>1980s</td>\n",
       "    </tr>\n",
       "    <tr>\n",
       "      <th>1</th>\n",
       "      <td>1948</td>\n",
       "      <td>China</td>\n",
       "      <td>Kiangya</td>\n",
       "      <td>2750</td>\n",
       "      <td>1940s</td>\n",
       "    </tr>\n",
       "    <tr>\n",
       "      <th>2</th>\n",
       "      <td>1917</td>\n",
       "      <td>Canada</td>\n",
       "      <td>Mont Blanc</td>\n",
       "      <td>1950</td>\n",
       "      <td>1910s</td>\n",
       "    </tr>\n",
       "    <tr>\n",
       "      <th>3</th>\n",
       "      <td>1912</td>\n",
       "      <td>United Kingdom</td>\n",
       "      <td>RMS Titanic</td>\n",
       "      <td>1517</td>\n",
       "      <td>1910s</td>\n",
       "    </tr>\n",
       "    <tr>\n",
       "      <th>4</th>\n",
       "      <td>1949</td>\n",
       "      <td>China</td>\n",
       "      <td>Taiping</td>\n",
       "      <td>1500</td>\n",
       "      <td>1940s</td>\n",
       "    </tr>\n",
       "    <tr>\n",
       "      <th>5</th>\n",
       "      <td>1954</td>\n",
       "      <td>Japan</td>\n",
       "      <td>Toya Maru</td>\n",
       "      <td>1153</td>\n",
       "      <td>1950s</td>\n",
       "    </tr>\n",
       "    <tr>\n",
       "      <th>6</th>\n",
       "      <td>1914</td>\n",
       "      <td>Canada</td>\n",
       "      <td>RMS Empress of Ireland</td>\n",
       "      <td>1012</td>\n",
       "      <td>1910s</td>\n",
       "    </tr>\n",
       "    <tr>\n",
       "      <th>7</th>\n",
       "      <td>1904</td>\n",
       "      <td>United States</td>\n",
       "      <td>General Slocum</td>\n",
       "      <td>1021</td>\n",
       "      <td>1900s</td>\n",
       "    </tr>\n",
       "    <tr>\n",
       "      <th>8</th>\n",
       "      <td>1912</td>\n",
       "      <td>Japan</td>\n",
       "      <td>Kiche Maru</td>\n",
       "      <td>1000</td>\n",
       "      <td>1910s</td>\n",
       "    </tr>\n",
       "    <tr>\n",
       "      <th>9</th>\n",
       "      <td>1921</td>\n",
       "      <td>Singapore</td>\n",
       "      <td>Hong Moh</td>\n",
       "      <td>1000</td>\n",
       "      <td>1920s</td>\n",
       "    </tr>\n",
       "  </tbody>\n",
       "</table>\n",
       "</div>"
      ],
      "text/plain": [
       "   The year of the disaster         Country    The name of the ship  \\\n",
       "0                      1987     Philippines                Dona Paz   \n",
       "1                      1948           China                 Kiangya   \n",
       "2                      1917          Canada              Mont Blanc   \n",
       "3                      1912  United Kingdom             RMS Titanic   \n",
       "4                      1949           China                 Taiping   \n",
       "5                      1954           Japan               Toya Maru   \n",
       "6                      1914          Canada  RMS Empress of Ireland   \n",
       "7                      1904   United States          General Slocum   \n",
       "8                      1912           Japan              Kiche Maru   \n",
       "9                      1921       Singapore                Hong Moh   \n",
       "\n",
       "   Number_of_Deaths Interval  \n",
       "0              4386    1980s  \n",
       "1              2750    1940s  \n",
       "2              1950    1910s  \n",
       "3              1517    1910s  \n",
       "4              1500    1940s  \n",
       "5              1153    1950s  \n",
       "6              1012    1910s  \n",
       "7              1021    1900s  \n",
       "8              1000    1910s  \n",
       "9              1000    1920s  "
      ]
     },
     "execution_count": 29,
     "metadata": {},
     "output_type": "execute_result"
    }
   ],
   "source": [
    "df.head(10)"
   ]
  },
  {
   "cell_type": "code",
   "execution_count": 30,
   "metadata": {
    "tags": []
   },
   "outputs": [
    {
     "data": {
      "text/html": [
       "<div>\n",
       "<style scoped>\n",
       "    .dataframe tbody tr th:only-of-type {\n",
       "        vertical-align: middle;\n",
       "    }\n",
       "\n",
       "    .dataframe tbody tr th {\n",
       "        vertical-align: top;\n",
       "    }\n",
       "\n",
       "    .dataframe thead th {\n",
       "        text-align: right;\n",
       "    }\n",
       "</style>\n",
       "<table border=\"1\" class=\"dataframe\">\n",
       "  <thead>\n",
       "    <tr style=\"text-align: right;\">\n",
       "      <th></th>\n",
       "      <th>The year of the disaster</th>\n",
       "      <th>Country</th>\n",
       "      <th>The name of the ship</th>\n",
       "      <th>Number_of_Deaths</th>\n",
       "      <th>Interval</th>\n",
       "      <th>CODE</th>\n",
       "    </tr>\n",
       "  </thead>\n",
       "  <tbody>\n",
       "    <tr>\n",
       "      <th>0</th>\n",
       "      <td>1987</td>\n",
       "      <td>Philippines</td>\n",
       "      <td>Dona Paz</td>\n",
       "      <td>4386</td>\n",
       "      <td>1980s</td>\n",
       "      <td>PHL</td>\n",
       "    </tr>\n",
       "    <tr>\n",
       "      <th>1</th>\n",
       "      <td>1948</td>\n",
       "      <td>China</td>\n",
       "      <td>Kiangya</td>\n",
       "      <td>2750</td>\n",
       "      <td>1940s</td>\n",
       "      <td>CHN</td>\n",
       "    </tr>\n",
       "    <tr>\n",
       "      <th>2</th>\n",
       "      <td>1917</td>\n",
       "      <td>Canada</td>\n",
       "      <td>Mont Blanc</td>\n",
       "      <td>1950</td>\n",
       "      <td>1910s</td>\n",
       "      <td>CAN</td>\n",
       "    </tr>\n",
       "    <tr>\n",
       "      <th>3</th>\n",
       "      <td>1912</td>\n",
       "      <td>United Kingdom</td>\n",
       "      <td>RMS Titanic</td>\n",
       "      <td>1517</td>\n",
       "      <td>1910s</td>\n",
       "      <td>GBR</td>\n",
       "    </tr>\n",
       "    <tr>\n",
       "      <th>4</th>\n",
       "      <td>1949</td>\n",
       "      <td>China</td>\n",
       "      <td>Taiping</td>\n",
       "      <td>1500</td>\n",
       "      <td>1940s</td>\n",
       "      <td>CHN</td>\n",
       "    </tr>\n",
       "  </tbody>\n",
       "</table>\n",
       "</div>"
      ],
      "text/plain": [
       "   The year of the disaster         Country The name of the ship  \\\n",
       "0                      1987     Philippines             Dona Paz   \n",
       "1                      1948           China              Kiangya   \n",
       "2                      1917          Canada           Mont Blanc   \n",
       "3                      1912  United Kingdom          RMS Titanic   \n",
       "4                      1949           China              Taiping   \n",
       "\n",
       "   Number_of_Deaths Interval CODE  \n",
       "0              4386    1980s  PHL  \n",
       "1              2750    1940s  CHN  \n",
       "2              1950    1910s  CAN  \n",
       "3              1517    1910s  GBR  \n",
       "4              1500    1940s  CHN  "
      ]
     },
     "execution_count": 30,
     "metadata": {},
     "output_type": "execute_result"
    }
   ],
   "source": [
    "import pycountry \n",
    "def alpha3code(column):\n",
    "    CODE=[]\n",
    "    for country in column:\n",
    "        try:\n",
    "            code=pycountry.countries.get(name=country).alpha_3\n",
    "           # .alpha_3 means 3-letter country code \n",
    "           # .alpha_2 means 2-letter country code\n",
    "            CODE.append(code)\n",
    "        except:\n",
    "            CODE.append('None')\n",
    "    return CODE\n",
    "# create a column for code \n",
    "df['CODE']=alpha3code(df.Country)\n",
    "df.head(5)"
   ]
  },
  {
   "cell_type": "markdown",
   "metadata": {},
   "source": [
    "### **Reference:** https://melaniesoek0120.medium.com/data-visualization-how-to-plot-a-map-with-geopandas-in-python-73b10dcd4b4b|"
   ]
  },
  {
   "cell_type": "code",
   "execution_count": null,
   "metadata": {
    "tags": []
   },
   "outputs": [],
   "source": [
    "\"\"\"import geopandas\n",
    "# 'naturalearth_lowres' is geopandas datasets so we can use it directly\n",
    "world = geopandas.read_file(geopandas.datasets.get_path('naturalearth_lowres'))\n",
    "# rename the columns so that we can merge with our data\n",
    "world.columns=['pop_est', 'continent', 'name', 'CODE', 'gdp_md_est', 'geometry']\n",
    "# then merge with our data \n",
    "merge=pd.merge(world,df,on='CODE')\n",
    "\n",
    "location=pd.read_csv('https://raw.githubusercontent.com/melanieshi0120/COVID-19_global_time_series_panel_data/master/data/countries_latitude_longitude.csv')\"\"\""
   ]
  },
  {
   "cell_type": "code",
   "execution_count": 38,
   "metadata": {},
   "outputs": [],
   "source": [
    "merge = pd.read_csv('Final_Map.csv', index_col=0)"
   ]
  },
  {
   "cell_type": "code",
   "execution_count": 39,
   "metadata": {
    "execution": {
     "iopub.execute_input": "2022-04-30T15:58:25.457659Z",
     "iopub.status.busy": "2022-04-30T15:58:25.457210Z",
     "iopub.status.idle": "2022-04-30T15:58:25.517730Z",
     "shell.execute_reply": "2022-04-30T15:58:25.516865Z",
     "shell.execute_reply.started": "2022-04-30T15:58:25.457628Z"
    }
   },
   "outputs": [
    {
     "data": {
      "text/html": [
       "<div>\n",
       "<style scoped>\n",
       "    .dataframe tbody tr th:only-of-type {\n",
       "        vertical-align: middle;\n",
       "    }\n",
       "\n",
       "    .dataframe tbody tr th {\n",
       "        vertical-align: top;\n",
       "    }\n",
       "\n",
       "    .dataframe thead th {\n",
       "        text-align: right;\n",
       "    }\n",
       "</style>\n",
       "<table border=\"1\" class=\"dataframe\">\n",
       "  <thead>\n",
       "    <tr style=\"text-align: right;\">\n",
       "      <th></th>\n",
       "      <th>index</th>\n",
       "      <th>pop_est</th>\n",
       "      <th>continent</th>\n",
       "      <th>name</th>\n",
       "      <th>CODE</th>\n",
       "      <th>gdp_md_est</th>\n",
       "      <th>geometry</th>\n",
       "      <th>The year of the disaster</th>\n",
       "      <th>Country</th>\n",
       "      <th>The name of the ship</th>\n",
       "      <th>Number_of_Deaths</th>\n",
       "      <th>Interval</th>\n",
       "      <th>latitude</th>\n",
       "      <th>longitude</th>\n",
       "    </tr>\n",
       "  </thead>\n",
       "  <tbody>\n",
       "    <tr>\n",
       "      <th>0</th>\n",
       "      <td>115</td>\n",
       "      <td>104256076</td>\n",
       "      <td>Asia</td>\n",
       "      <td>Philippines</td>\n",
       "      <td>PHL</td>\n",
       "      <td>801900.0</td>\n",
       "      <td>MULTIPOLYGON (((120.8338961121466 12.704496161...</td>\n",
       "      <td>1987</td>\n",
       "      <td>Philippines</td>\n",
       "      <td>Dona Paz</td>\n",
       "      <td>4386</td>\n",
       "      <td>1980s</td>\n",
       "      <td>12.879721</td>\n",
       "      <td>121.774017</td>\n",
       "    </tr>\n",
       "    <tr>\n",
       "      <th>1</th>\n",
       "      <td>76</td>\n",
       "      <td>1379302771</td>\n",
       "      <td>Asia</td>\n",
       "      <td>China</td>\n",
       "      <td>CHN</td>\n",
       "      <td>21140000.0</td>\n",
       "      <td>MULTIPOLYGON (((109.4752095886636 18.197700913...</td>\n",
       "      <td>1948</td>\n",
       "      <td>China</td>\n",
       "      <td>Kiangya</td>\n",
       "      <td>2750</td>\n",
       "      <td>1940s</td>\n",
       "      <td>35.861660</td>\n",
       "      <td>104.195397</td>\n",
       "    </tr>\n",
       "    <tr>\n",
       "      <th>2</th>\n",
       "      <td>0</td>\n",
       "      <td>35623680</td>\n",
       "      <td>North America</td>\n",
       "      <td>Canada</td>\n",
       "      <td>CAN</td>\n",
       "      <td>1674000.0</td>\n",
       "      <td>MULTIPOLYGON (((-122.84 49.00000000000011, -12...</td>\n",
       "      <td>1917</td>\n",
       "      <td>Canada</td>\n",
       "      <td>Mont Blanc</td>\n",
       "      <td>1950</td>\n",
       "      <td>1910s</td>\n",
       "      <td>56.130366</td>\n",
       "      <td>-106.346771</td>\n",
       "    </tr>\n",
       "    <tr>\n",
       "      <th>3</th>\n",
       "      <td>89</td>\n",
       "      <td>64769452</td>\n",
       "      <td>Europe</td>\n",
       "      <td>United Kingdom</td>\n",
       "      <td>GBR</td>\n",
       "      <td>2788000.0</td>\n",
       "      <td>MULTIPOLYGON (((-6.197884894220991 53.86756500...</td>\n",
       "      <td>1912</td>\n",
       "      <td>United Kingdom</td>\n",
       "      <td>RMS Titanic</td>\n",
       "      <td>1517</td>\n",
       "      <td>1910s</td>\n",
       "      <td>55.378051</td>\n",
       "      <td>-3.435973</td>\n",
       "    </tr>\n",
       "    <tr>\n",
       "      <th>4</th>\n",
       "      <td>77</td>\n",
       "      <td>1379302771</td>\n",
       "      <td>Asia</td>\n",
       "      <td>China</td>\n",
       "      <td>CHN</td>\n",
       "      <td>21140000.0</td>\n",
       "      <td>MULTIPOLYGON (((109.4752095886636 18.197700913...</td>\n",
       "      <td>1949</td>\n",
       "      <td>China</td>\n",
       "      <td>Taiping</td>\n",
       "      <td>1500</td>\n",
       "      <td>1940s</td>\n",
       "      <td>35.861660</td>\n",
       "      <td>104.195397</td>\n",
       "    </tr>\n",
       "    <tr>\n",
       "      <th>...</th>\n",
       "      <td>...</td>\n",
       "      <td>...</td>\n",
       "      <td>...</td>\n",
       "      <td>...</td>\n",
       "      <td>...</td>\n",
       "      <td>...</td>\n",
       "      <td>...</td>\n",
       "      <td>...</td>\n",
       "      <td>...</td>\n",
       "      <td>...</td>\n",
       "      <td>...</td>\n",
       "      <td>...</td>\n",
       "      <td>...</td>\n",
       "      <td>...</td>\n",
       "    </tr>\n",
       "    <tr>\n",
       "      <th>129</th>\n",
       "      <td>132</td>\n",
       "      <td>1221549</td>\n",
       "      <td>Asia</td>\n",
       "      <td>Cyprus</td>\n",
       "      <td>CYP</td>\n",
       "      <td>29260.0</td>\n",
       "      <td>POLYGON ((32.73178022637745 35.14002594658844,...</td>\n",
       "      <td>1992</td>\n",
       "      <td>Cyprus</td>\n",
       "      <td>Royal Pacific</td>\n",
       "      <td>30</td>\n",
       "      <td>1990s</td>\n",
       "      <td>35.126413</td>\n",
       "      <td>33.429859</td>\n",
       "    </tr>\n",
       "    <tr>\n",
       "      <th>130</th>\n",
       "      <td>114</td>\n",
       "      <td>64769452</td>\n",
       "      <td>Europe</td>\n",
       "      <td>United Kingdom</td>\n",
       "      <td>GBR</td>\n",
       "      <td>2788000.0</td>\n",
       "      <td>MULTIPOLYGON (((-6.197884894220991 53.86756500...</td>\n",
       "      <td>1916</td>\n",
       "      <td>United Kingdom</td>\n",
       "      <td>HMHS Britannic</td>\n",
       "      <td>30</td>\n",
       "      <td>1910s</td>\n",
       "      <td>55.378051</td>\n",
       "      <td>-3.435973</td>\n",
       "    </tr>\n",
       "    <tr>\n",
       "      <th>131</th>\n",
       "      <td>37</td>\n",
       "      <td>326625791</td>\n",
       "      <td>North America</td>\n",
       "      <td>United States of America</td>\n",
       "      <td>USA</td>\n",
       "      <td>18560000.0</td>\n",
       "      <td>MULTIPOLYGON (((-122.84 49.00000000000011, -12...</td>\n",
       "      <td>1975</td>\n",
       "      <td>United States</td>\n",
       "      <td>SS Edmund Fitzgerald</td>\n",
       "      <td>29</td>\n",
       "      <td>1970s</td>\n",
       "      <td>37.090240</td>\n",
       "      <td>-95.712891</td>\n",
       "    </tr>\n",
       "    <tr>\n",
       "      <th>132</th>\n",
       "      <td>61</td>\n",
       "      <td>80594017</td>\n",
       "      <td>Europe</td>\n",
       "      <td>Germany</td>\n",
       "      <td>DEU</td>\n",
       "      <td>3979000.0</td>\n",
       "      <td>POLYGON ((14.11968631354256 53.75702912049104,...</td>\n",
       "      <td>1978</td>\n",
       "      <td>Germany</td>\n",
       "      <td>MS Munchen</td>\n",
       "      <td>28</td>\n",
       "      <td>1970s</td>\n",
       "      <td>51.165691</td>\n",
       "      <td>10.451526</td>\n",
       "    </tr>\n",
       "    <tr>\n",
       "      <th>133</th>\n",
       "      <td>50</td>\n",
       "      <td>8299706</td>\n",
       "      <td>Asia</td>\n",
       "      <td>Israel</td>\n",
       "      <td>ISR</td>\n",
       "      <td>297000.0</td>\n",
       "      <td>POLYGON ((35.71991824722275 32.70919240979487,...</td>\n",
       "      <td>1981</td>\n",
       "      <td>Israel</td>\n",
       "      <td>The Mezada</td>\n",
       "      <td>24</td>\n",
       "      <td>1980s</td>\n",
       "      <td>31.046051</td>\n",
       "      <td>34.851612</td>\n",
       "    </tr>\n",
       "  </tbody>\n",
       "</table>\n",
       "<p>134 rows × 14 columns</p>\n",
       "</div>"
      ],
      "text/plain": [
       "     index     pop_est      continent                      name CODE  \\\n",
       "0      115   104256076           Asia               Philippines  PHL   \n",
       "1       76  1379302771           Asia                     China  CHN   \n",
       "2        0    35623680  North America                    Canada  CAN   \n",
       "3       89    64769452         Europe            United Kingdom  GBR   \n",
       "4       77  1379302771           Asia                     China  CHN   \n",
       "..     ...         ...            ...                       ...  ...   \n",
       "129    132     1221549           Asia                    Cyprus  CYP   \n",
       "130    114    64769452         Europe            United Kingdom  GBR   \n",
       "131     37   326625791  North America  United States of America  USA   \n",
       "132     61    80594017         Europe                   Germany  DEU   \n",
       "133     50     8299706           Asia                    Israel  ISR   \n",
       "\n",
       "     gdp_md_est                                           geometry  \\\n",
       "0      801900.0  MULTIPOLYGON (((120.8338961121466 12.704496161...   \n",
       "1    21140000.0  MULTIPOLYGON (((109.4752095886636 18.197700913...   \n",
       "2     1674000.0  MULTIPOLYGON (((-122.84 49.00000000000011, -12...   \n",
       "3     2788000.0  MULTIPOLYGON (((-6.197884894220991 53.86756500...   \n",
       "4    21140000.0  MULTIPOLYGON (((109.4752095886636 18.197700913...   \n",
       "..          ...                                                ...   \n",
       "129     29260.0  POLYGON ((32.73178022637745 35.14002594658844,...   \n",
       "130   2788000.0  MULTIPOLYGON (((-6.197884894220991 53.86756500...   \n",
       "131  18560000.0  MULTIPOLYGON (((-122.84 49.00000000000011, -12...   \n",
       "132   3979000.0  POLYGON ((14.11968631354256 53.75702912049104,...   \n",
       "133    297000.0  POLYGON ((35.71991824722275 32.70919240979487,...   \n",
       "\n",
       "     The year of the disaster         Country  The name of the ship  \\\n",
       "0                        1987     Philippines              Dona Paz   \n",
       "1                        1948           China               Kiangya   \n",
       "2                        1917          Canada            Mont Blanc   \n",
       "3                        1912  United Kingdom           RMS Titanic   \n",
       "4                        1949           China               Taiping   \n",
       "..                        ...             ...                   ...   \n",
       "129                      1992          Cyprus         Royal Pacific   \n",
       "130                      1916  United Kingdom        HMHS Britannic   \n",
       "131                      1975   United States  SS Edmund Fitzgerald   \n",
       "132                      1978         Germany            MS Munchen   \n",
       "133                      1981          Israel            The Mezada   \n",
       "\n",
       "     Number_of_Deaths Interval   latitude   longitude  \n",
       "0                4386    1980s  12.879721  121.774017  \n",
       "1                2750    1940s  35.861660  104.195397  \n",
       "2                1950    1910s  56.130366 -106.346771  \n",
       "3                1517    1910s  55.378051   -3.435973  \n",
       "4                1500    1940s  35.861660  104.195397  \n",
       "..                ...      ...        ...         ...  \n",
       "129                30    1990s  35.126413   33.429859  \n",
       "130                30    1910s  55.378051   -3.435973  \n",
       "131                29    1970s  37.090240  -95.712891  \n",
       "132                28    1970s  51.165691   10.451526  \n",
       "133                24    1980s  31.046051   34.851612  \n",
       "\n",
       "[134 rows x 14 columns]"
      ]
     },
     "execution_count": 39,
     "metadata": {},
     "output_type": "execute_result"
    }
   ],
   "source": [
    "merge"
   ]
  },
  {
   "cell_type": "code",
   "execution_count": null,
   "metadata": {
    "execution": {
     "iopub.execute_input": "2022-04-30T15:58:26.974659Z",
     "iopub.status.busy": "2022-04-30T15:58:26.973908Z",
     "iopub.status.idle": "2022-04-30T15:58:27.100331Z",
     "shell.execute_reply": "2022-04-30T15:58:27.099875Z",
     "shell.execute_reply.started": "2022-04-30T15:58:26.974610Z"
    }
   },
   "outputs": [],
   "source": [
    "\"\"\"merge.to_csv('Final_Map.csv')\"\"\""
   ]
  },
  {
   "cell_type": "code",
   "execution_count": null,
   "metadata": {
    "execution": {
     "iopub.execute_input": "2022-04-30T15:58:28.013704Z",
     "iopub.status.busy": "2022-04-30T15:58:28.013402Z",
     "iopub.status.idle": "2022-04-30T15:58:29.593661Z",
     "shell.execute_reply": "2022-04-30T15:58:29.592851Z",
     "shell.execute_reply.started": "2022-04-30T15:58:28.013683Z"
    }
   },
   "outputs": [],
   "source": [
    "\"\"\"merge.plot(column='Number_of_Deaths', scheme=\"quantiles\",\n",
    "           figsize=(25, 20),\n",
    "           legend=True,cmap='coolwarm')\n",
    "plt.title('Maritime disaster deaths in different countries',fontsize=25)\n",
    "# add countries names and number of deaths \n",
    "for i in range(0,10):\n",
    "    plt.text(float(merge.longitude[i]),float(merge.latitude[i]),str(merge.Country[i]),size=10)\n",
    "plt.show()\"\"\""
   ]
  },
  {
   "cell_type": "code",
   "execution_count": 69,
   "metadata": {
    "execution": {
     "iopub.execute_input": "2022-04-30T16:01:17.368812Z",
     "iopub.status.busy": "2022-04-30T16:01:17.368447Z",
     "iopub.status.idle": "2022-04-30T16:01:17.424112Z",
     "shell.execute_reply": "2022-04-30T16:01:17.423533Z",
     "shell.execute_reply.started": "2022-04-30T16:01:17.368786Z"
    }
   },
   "outputs": [
    {
     "data": {
      "application/vnd.plotly.v1+json": {
       "config": {
        "plotlyServerURL": "https://plot.ly"
       },
       "data": [
        {
         "geo": "geo",
         "hovertemplate": "<b>%{hovertext}</b><br><br>Country=Philippines<br>Number_of_Deaths=%{marker.size}<br>CODE=%{location}<extra></extra>",
         "hovertext": [
          "Philippines",
          "Philippines",
          "Philippines",
          "Philippines",
          "Philippines",
          "Philippines",
          "Philippines",
          "Philippines",
          "Philippines"
         ],
         "legendgroup": "Philippines",
         "locations": [
          "PHL",
          "PHL",
          "PHL",
          "PHL",
          "PHL",
          "PHL",
          "PHL",
          "PHL",
          "PHL"
         ],
         "marker": {
          "color": "#636efa",
          "size": [
           4386,
           389,
           176,
           151,
           140,
           79,
           72,
           71,
           56
          ],
          "sizemode": "area",
          "sizeref": 3.580408163265306,
          "symbol": "circle"
         },
         "mode": "markers",
         "name": "Philippines",
         "showlegend": true,
         "type": "scattergeo"
        },
        {
         "geo": "geo",
         "hovertemplate": "<b>%{hovertext}</b><br><br>Country=China<br>Number_of_Deaths=%{marker.size}<br>CODE=%{location}<extra></extra>",
         "hovertext": [
          "China",
          "China",
          "China",
          "China"
         ],
         "legendgroup": "China",
         "locations": [
          "CHN",
          "CHN",
          "CHN",
          "CHN"
         ],
         "marker": {
          "color": "#EF553B",
          "size": [
           2750,
           1500,
           432,
           314
          ],
          "sizemode": "area",
          "sizeref": 3.580408163265306,
          "symbol": "circle"
         },
         "mode": "markers",
         "name": "China",
         "showlegend": true,
         "type": "scattergeo"
        },
        {
         "geo": "geo",
         "hovertemplate": "<b>%{hovertext}</b><br><br>Country=Canada<br>Number_of_Deaths=%{marker.size}<br>CODE=%{location}<extra></extra>",
         "hovertext": [
          "Canada",
          "Canada",
          "Canada",
          "Canada",
          "Canada",
          "Canada",
          "Canada"
         ],
         "legendgroup": "Canada",
         "locations": [
          "CAN",
          "CAN",
          "CAN",
          "CAN",
          "CAN",
          "CAN",
          "CAN"
         ],
         "marker": {
          "color": "#00cc96",
          "size": [
           1950,
           1012,
           130,
           118,
           84,
           56,
           40
          ],
          "sizemode": "area",
          "sizeref": 3.580408163265306,
          "symbol": "circle"
         },
         "mode": "markers",
         "name": "Canada",
         "showlegend": true,
         "type": "scattergeo"
        },
        {
         "geo": "geo",
         "hovertemplate": "<b>%{hovertext}</b><br><br>Country=United Kingdom<br>Number_of_Deaths=%{marker.size}<br>CODE=%{location}<extra></extra>",
         "hovertext": [
          "United Kingdom",
          "United Kingdom",
          "United Kingdom",
          "United Kingdom",
          "United Kingdom",
          "United Kingdom",
          "United Kingdom",
          "United Kingdom",
          "United Kingdom",
          "United Kingdom",
          "United Kingdom",
          "United Kingdom",
          "United Kingdom",
          "United Kingdom",
          "United Kingdom",
          "United Kingdom",
          "United Kingdom",
          "United Kingdom",
          "United Kingdom",
          "United Kingdom",
          "United Kingdom",
          "United Kingdom",
          "United Kingdom",
          "United Kingdom",
          "United Kingdom",
          "United Kingdom"
         ],
         "legendgroup": "United Kingdom",
         "locations": [
          "GBR",
          "GBR",
          "GBR",
          "GBR",
          "GBR",
          "GBR",
          "GBR",
          "GBR",
          "GBR",
          "GBR",
          "GBR",
          "GBR",
          "GBR",
          "GBR",
          "GBR",
          "GBR",
          "GBR",
          "GBR",
          "GBR",
          "GBR",
          "GBR",
          "GBR",
          "GBR",
          "GBR",
          "GBR",
          "GBR"
         ],
         "marker": {
          "color": "#ab63fa",
          "size": [
           1517,
           737,
           736,
           238,
           211,
           205,
           193,
           150,
           133,
           128,
           125,
           110,
           99,
           90,
           75,
           72,
           69,
           67,
           64,
           57,
           51,
           49,
           44,
           33,
           31,
           30
          ],
          "sizemode": "area",
          "sizeref": 3.580408163265306,
          "symbol": "circle"
         },
         "mode": "markers",
         "name": "United Kingdom",
         "showlegend": true,
         "type": "scattergeo"
        },
        {
         "geo": "geo",
         "hovertemplate": "<b>%{hovertext}</b><br><br>Country=Japan<br>Number_of_Deaths=%{marker.size}<br>CODE=%{location}<extra></extra>",
         "hovertext": [
          "Japan",
          "Japan",
          "Japan",
          "Japan",
          "Japan",
          "Japan"
         ],
         "legendgroup": "Japan",
         "locations": [
          "JPN",
          "JPN",
          "JPN",
          "JPN",
          "JPN",
          "JPN"
         ],
         "marker": {
          "color": "#FFA15A",
          "size": [
           1153,
           1000,
           900,
           319,
           206,
           166
          ],
          "sizemode": "area",
          "sizeref": 3.580408163265306,
          "symbol": "circle"
         },
         "mode": "markers",
         "name": "Japan",
         "showlegend": true,
         "type": "scattergeo"
        },
        {
         "geo": "geo",
         "hovertemplate": "<b>%{hovertext}</b><br><br>Country=United States<br>Number_of_Deaths=%{marker.size}<br>CODE=%{location}<extra></extra>",
         "hovertext": [
          "United States",
          "United States",
          "United States",
          "United States",
          "United States",
          "United States",
          "United States",
          "United States",
          "United States",
          "United States",
          "United States",
          "United States",
          "United States",
          "United States",
          "United States",
          "United States",
          "United States",
          "United States",
          "United States",
          "United States",
          "United States",
          "United States",
          "United States",
          "United States",
          "United States",
          "United States",
          "United States",
          "United States",
          "United States",
          "United States",
          "United States"
         ],
         "legendgroup": "United States",
         "locations": [
          "USA",
          "USA",
          "USA",
          "USA",
          "USA",
          "USA",
          "USA",
          "USA",
          "USA",
          "USA",
          "USA",
          "USA",
          "USA",
          "USA",
          "USA",
          "USA",
          "USA",
          "USA",
          "USA",
          "USA",
          "USA",
          "USA",
          "USA",
          "USA",
          "USA",
          "USA",
          "USA",
          "USA",
          "USA",
          "USA",
          "USA"
         ],
         "marker": {
          "color": "#19d3f3",
          "size": [
           1021,
           845,
           581,
           343,
           255,
           176,
           150,
           137,
           135,
           129,
           117,
           110,
           103,
           99,
           88,
           78,
           77,
           74,
           56,
           55,
           52,
           47,
           47,
           45,
           41,
           37,
           36,
           34,
           33,
           32,
           29
          ],
          "sizemode": "area",
          "sizeref": 3.580408163265306,
          "symbol": "circle"
         },
         "mode": "markers",
         "name": "United States",
         "showlegend": true,
         "type": "scattergeo"
        },
        {
         "geo": "geo",
         "hovertemplate": "<b>%{hovertext}</b><br><br>Country=Estonia<br>Number_of_Deaths=%{marker.size}<br>CODE=%{location}<extra></extra>",
         "hovertext": [
          "Estonia"
         ],
         "legendgroup": "Estonia",
         "locations": [
          "EST"
         ],
         "marker": {
          "color": "#FF6692",
          "size": [
           852
          ],
          "sizemode": "area",
          "sizeref": 3.580408163265306,
          "symbol": "circle"
         },
         "mode": "markers",
         "name": "Estonia",
         "showlegend": true,
         "type": "scattergeo"
        },
        {
         "geo": "geo",
         "hovertemplate": "<b>%{hovertext}</b><br><br>Country=Denmark<br>Number_of_Deaths=%{marker.size}<br>CODE=%{location}<extra></extra>",
         "hovertext": [
          "Denmark",
          "Denmark",
          "Denmark",
          "Denmark"
         ],
         "legendgroup": "Denmark",
         "locations": [
          "DNK",
          "DNK",
          "DNK",
          "DNK"
         ],
         "marker": {
          "color": "#B6E880",
          "size": [
           635,
           159,
           95,
           75
          ],
          "sizemode": "area",
          "sizeref": 3.580408163265306,
          "symbol": "circle"
         },
         "mode": "markers",
         "name": "Denmark",
         "showlegend": true,
         "type": "scattergeo"
        },
        {
         "geo": "geo",
         "hovertemplate": "<b>%{hovertext}</b><br><br>Country=India<br>Number_of_Deaths=%{marker.size}<br>CODE=%{location}<extra></extra>",
         "hovertext": [
          "India",
          "India"
         ],
         "legendgroup": "India",
         "locations": [
          "IND",
          "IND"
         ],
         "marker": {
          "color": "#FF97FF",
          "size": [
           625,
           400
          ],
          "sizemode": "area",
          "sizeref": 3.580408163265306,
          "symbol": "circle"
         },
         "mode": "markers",
         "name": "India",
         "showlegend": true,
         "type": "scattergeo"
        },
        {
         "geo": "geo",
         "hovertemplate": "<b>%{hovertext}</b><br><br>Country=Indonesia<br>Number_of_Deaths=%{marker.size}<br>CODE=%{location}<extra></extra>",
         "hovertext": [
          "Indonesia",
          "Indonesia",
          "Indonesia",
          "Indonesia",
          "Indonesia"
         ],
         "legendgroup": "Indonesia",
         "locations": [
          "IDN",
          "IDN",
          "IDN",
          "IDN",
          "IDN"
         ],
         "marker": {
          "color": "#FECB52",
          "size": [
           580,
           481,
           361,
           313,
           260
          ],
          "sizemode": "area",
          "sizeref": 3.580408163265306,
          "symbol": "circle"
         },
         "mode": "markers",
         "name": "Indonesia",
         "showlegend": true,
         "type": "scattergeo"
        },
        {
         "geo": "geo",
         "hovertemplate": "<b>%{hovertext}</b><br><br>Country=Haiti<br>Number_of_Deaths=%{marker.size}<br>CODE=%{location}<extra></extra>",
         "hovertext": [
          "Haiti"
         ],
         "legendgroup": "Haiti",
         "locations": [
          "HTI"
         ],
         "marker": {
          "color": "#636efa",
          "size": [
           520
          ],
          "sizemode": "area",
          "sizeref": 3.580408163265306,
          "symbol": "circle"
         },
         "mode": "markers",
         "name": "Haiti",
         "showlegend": true,
         "type": "scattergeo"
        },
        {
         "geo": "geo",
         "hovertemplate": "<b>%{hovertext}</b><br><br>Country=Bangladesh<br>Number_of_Deaths=%{marker.size}<br>CODE=%{location}<extra></extra>",
         "hovertext": [
          "Bangladesh",
          "Bangladesh"
         ],
         "legendgroup": "Bangladesh",
         "locations": [
          "BGD",
          "BGD"
         ],
         "marker": {
          "color": "#EF553B",
          "size": [
           510,
           200
          ],
          "sizemode": "area",
          "sizeref": 3.580408163265306,
          "symbol": "circle"
         },
         "mode": "markers",
         "name": "Bangladesh",
         "showlegend": true,
         "type": "scattergeo"
        },
        {
         "geo": "geo",
         "hovertemplate": "<b>%{hovertext}</b><br><br>Country=Spain<br>Number_of_Deaths=%{marker.size}<br>CODE=%{location}<extra></extra>",
         "hovertext": [
          "Spain",
          "Spain"
         ],
         "legendgroup": "Spain",
         "locations": [
          "ESP",
          "ESP"
         ],
         "marker": {
          "color": "#00cc96",
          "size": [
           488,
           445
          ],
          "sizemode": "area",
          "sizeref": 3.580408163265306,
          "symbol": "circle"
         },
         "mode": "markers",
         "name": "Spain",
         "showlegend": true,
         "type": "scattergeo"
        },
        {
         "geo": "geo",
         "hovertemplate": "<b>%{hovertext}</b><br><br>Country=Egypt<br>Number_of_Deaths=%{marker.size}<br>CODE=%{location}<extra></extra>",
         "hovertext": [
          "Egypt"
         ],
         "legendgroup": "Egypt",
         "locations": [
          "EGY"
         ],
         "marker": {
          "color": "#ab63fa",
          "size": [
           470
          ],
          "sizemode": "area",
          "sizeref": 3.580408163265306,
          "symbol": "circle"
         },
         "mode": "markers",
         "name": "Egypt",
         "showlegend": true,
         "type": "scattergeo"
        },
        {
         "geo": "geo",
         "hovertemplate": "<b>%{hovertext}</b><br><br>Country=Italy<br>Number_of_Deaths=%{marker.size}<br>CODE=%{location}<extra></extra>",
         "hovertext": [
          "Italy",
          "Italy",
          "Italy",
          "Italy",
          "Italy"
         ],
         "legendgroup": "Italy",
         "locations": [
          "ITA",
          "ITA",
          "ITA",
          "ITA",
          "ITA"
         ],
         "marker": {
          "color": "#FFA15A",
          "size": [
           314,
           293,
           140,
           108,
           46
          ],
          "sizemode": "area",
          "sizeref": 3.580408163265306,
          "symbol": "circle"
         },
         "mode": "markers",
         "name": "Italy",
         "showlegend": true,
         "type": "scattergeo"
        },
        {
         "geo": "geo",
         "hovertemplate": "<b>%{hovertext}</b><br><br>Country=Turkey<br>Number_of_Deaths=%{marker.size}<br>CODE=%{location}<extra></extra>",
         "hovertext": [
          "Turkey",
          "Turkey"
         ],
         "legendgroup": "Turkey",
         "locations": [
          "TUR",
          "TUR"
         ],
         "marker": {
          "color": "#19d3f3",
          "size": [
           272,
           81
          ],
          "sizemode": "area",
          "sizeref": 3.580408163265306,
          "symbol": "circle"
         },
         "mode": "markers",
         "name": "Turkey",
         "showlegend": true,
         "type": "scattergeo"
        },
        {
         "geo": "geo",
         "hovertemplate": "<b>%{hovertext}</b><br><br>Country=Kenya<br>Number_of_Deaths=%{marker.size}<br>CODE=%{location}<extra></extra>",
         "hovertext": [
          "Kenya"
         ],
         "legendgroup": "Kenya",
         "locations": [
          "KEN"
         ],
         "marker": {
          "color": "#FF6692",
          "size": [
           272
          ],
          "sizemode": "area",
          "sizeref": 3.580408163265306,
          "symbol": "circle"
         },
         "mode": "markers",
         "name": "Kenya",
         "showlegend": true,
         "type": "scattergeo"
        },
        {
         "geo": "geo",
         "hovertemplate": "<b>%{hovertext}</b><br><br>Country=Chile<br>Number_of_Deaths=%{marker.size}<br>CODE=%{location}<extra></extra>",
         "hovertext": [
          "Chile"
         ],
         "legendgroup": "Chile",
         "locations": [
          "CHL"
         ],
         "marker": {
          "color": "#B6E880",
          "size": [
           262
          ],
          "sizemode": "area",
          "sizeref": 3.580408163265306,
          "symbol": "circle"
         },
         "mode": "markers",
         "name": "Chile",
         "showlegend": true,
         "type": "scattergeo"
        },
        {
         "geo": "geo",
         "hovertemplate": "<b>%{hovertext}</b><br><br>Country=Greece<br>Number_of_Deaths=%{marker.size}<br>CODE=%{location}<extra></extra>",
         "hovertext": [
          "Greece",
          "Greece",
          "Greece",
          "Greece"
         ],
         "legendgroup": "Greece",
         "locations": [
          "GRC",
          "GRC",
          "GRC",
          "GRC"
         ],
         "marker": {
          "color": "#FF97FF",
          "size": [
           234,
           128,
           82,
           41
          ],
          "sizemode": "area",
          "sizeref": 3.580408163265306,
          "symbol": "circle"
         },
         "mode": "markers",
         "name": "Greece",
         "showlegend": true,
         "type": "scattergeo"
        },
        {
         "geo": "geo",
         "hovertemplate": "<b>%{hovertext}</b><br><br>Country=Brazil<br>Number_of_Deaths=%{marker.size}<br>CODE=%{location}<extra></extra>",
         "hovertext": [
          "Brazil"
         ],
         "legendgroup": "Brazil",
         "locations": [
          "BRA"
         ],
         "marker": {
          "color": "#FECB52",
          "size": [
           212
          ],
          "sizemode": "area",
          "sizeref": 3.580408163265306,
          "symbol": "circle"
         },
         "mode": "markers",
         "name": "Brazil",
         "showlegend": true,
         "type": "scattergeo"
        },
        {
         "geo": "geo",
         "hovertemplate": "<b>%{hovertext}</b><br><br>Country=Romania<br>Number_of_Deaths=%{marker.size}<br>CODE=%{location}<extra></extra>",
         "hovertext": [
          "Romania"
         ],
         "legendgroup": "Romania",
         "locations": [
          "ROU"
         ],
         "marker": {
          "color": "#636efa",
          "size": [
           150
          ],
          "sizemode": "area",
          "sizeref": 3.580408163265306,
          "symbol": "circle"
         },
         "mode": "markers",
         "name": "Romania",
         "showlegend": true,
         "type": "scattergeo"
        },
        {
         "geo": "geo",
         "hovertemplate": "<b>%{hovertext}</b><br><br>Country=Finland<br>Number_of_Deaths=%{marker.size}<br>CODE=%{location}<extra></extra>",
         "hovertext": [
          "Finland"
         ],
         "legendgroup": "Finland",
         "locations": [
          "FIN"
         ],
         "marker": {
          "color": "#EF553B",
          "size": [
           136
          ],
          "sizemode": "area",
          "sizeref": 3.580408163265306,
          "symbol": "circle"
         },
         "mode": "markers",
         "name": "Finland",
         "showlegend": true,
         "type": "scattergeo"
        },
        {
         "geo": "geo",
         "hovertemplate": "<b>%{hovertext}</b><br><br>Country=Germany<br>Number_of_Deaths=%{marker.size}<br>CODE=%{location}<extra></extra>",
         "hovertext": [
          "Germany",
          "Germany"
         ],
         "legendgroup": "Germany",
         "locations": [
          "DEU",
          "DEU"
         ],
         "marker": {
          "color": "#00cc96",
          "size": [
           132,
           28
          ],
          "sizemode": "area",
          "sizeref": 3.580408163265306,
          "symbol": "circle"
         },
         "mode": "markers",
         "name": "Germany",
         "showlegend": true,
         "type": "scattergeo"
        },
        {
         "geo": "geo",
         "hovertemplate": "<b>%{hovertext}</b><br><br>Country=Australia<br>Number_of_Deaths=%{marker.size}<br>CODE=%{location}<extra></extra>",
         "hovertext": [
          "Australia",
          "Australia"
         ],
         "legendgroup": "Australia",
         "locations": [
          "AUS",
          "AUS"
         ],
         "marker": {
          "color": "#ab63fa",
          "size": [
           122,
           82
          ],
          "sizemode": "area",
          "sizeref": 3.580408163265306,
          "symbol": "circle"
         },
         "mode": "markers",
         "name": "Australia",
         "showlegend": true,
         "type": "scattergeo"
        },
        {
         "geo": "geo",
         "hovertemplate": "<b>%{hovertext}</b><br><br>Country=Malaysia<br>Number_of_Deaths=%{marker.size}<br>CODE=%{location}<extra></extra>",
         "hovertext": [
          "Malaysia"
         ],
         "legendgroup": "Malaysia",
         "locations": [
          "MYS"
         ],
         "marker": {
          "color": "#FFA15A",
          "size": [
           121
          ],
          "sizemode": "area",
          "sizeref": 3.580408163265306,
          "symbol": "circle"
         },
         "mode": "markers",
         "name": "Malaysia",
         "showlegend": true,
         "type": "scattergeo"
        },
        {
         "geo": "geo",
         "hovertemplate": "<b>%{hovertext}</b><br><br>Country=Thailand<br>Number_of_Deaths=%{marker.size}<br>CODE=%{location}<extra></extra>",
         "hovertext": [
          "Thailand"
         ],
         "legendgroup": "Thailand",
         "locations": [
          "THA"
         ],
         "marker": {
          "color": "#19d3f3",
          "size": [
           91
          ],
          "sizemode": "area",
          "sizeref": 3.580408163265306,
          "symbol": "circle"
         },
         "mode": "markers",
         "name": "Thailand",
         "showlegend": true,
         "type": "scattergeo"
        },
        {
         "geo": "geo",
         "hovertemplate": "<b>%{hovertext}</b><br><br>Country=Panama<br>Number_of_Deaths=%{marker.size}<br>CODE=%{location}<extra></extra>",
         "hovertext": [
          "Panama"
         ],
         "legendgroup": "Panama",
         "locations": [
          "PAN"
         ],
         "marker": {
          "color": "#FF6692",
          "size": [
           90
          ],
          "sizemode": "area",
          "sizeref": 3.580408163265306,
          "symbol": "circle"
         },
         "mode": "markers",
         "name": "Panama",
         "showlegend": true,
         "type": "scattergeo"
        },
        {
         "geo": "geo",
         "hovertemplate": "<b>%{hovertext}</b><br><br>Country=Mexico<br>Number_of_Deaths=%{marker.size}<br>CODE=%{location}<extra></extra>",
         "hovertext": [
          "Mexico"
         ],
         "legendgroup": "Mexico",
         "locations": [
          "MEX"
         ],
         "marker": {
          "color": "#B6E880",
          "size": [
           86
          ],
          "sizemode": "area",
          "sizeref": 3.580408163265306,
          "symbol": "circle"
         },
         "mode": "markers",
         "name": "Mexico",
         "showlegend": true,
         "type": "scattergeo"
        },
        {
         "geo": "geo",
         "hovertemplate": "<b>%{hovertext}</b><br><br>Country=Albania<br>Number_of_Deaths=%{marker.size}<br>CODE=%{location}<extra></extra>",
         "hovertext": [
          "Albania"
         ],
         "legendgroup": "Albania",
         "locations": [
          "ALB"
         ],
         "marker": {
          "color": "#FF97FF",
          "size": [
           83
          ],
          "sizemode": "area",
          "sizeref": 3.580408163265306,
          "symbol": "circle"
         },
         "mode": "markers",
         "name": "Albania",
         "showlegend": true,
         "type": "scattergeo"
        },
        {
         "geo": "geo",
         "hovertemplate": "<b>%{hovertext}</b><br><br>Country=New Zealand<br>Number_of_Deaths=%{marker.size}<br>CODE=%{location}<extra></extra>",
         "hovertext": [
          "New Zealand",
          "New Zealand",
          "New Zealand"
         ],
         "legendgroup": "New Zealand",
         "locations": [
          "NZL",
          "NZL",
          "NZL"
         ],
         "marker": {
          "color": "#FECB52",
          "size": [
           75,
           53,
           45
          ],
          "sizemode": "area",
          "sizeref": 3.580408163265306,
          "symbol": "circle"
         },
         "mode": "markers",
         "name": "New Zealand",
         "showlegend": true,
         "type": "scattergeo"
        },
        {
         "geo": "geo",
         "hovertemplate": "<b>%{hovertext}</b><br><br>Country=Guatemala<br>Number_of_Deaths=%{marker.size}<br>CODE=%{location}<extra></extra>",
         "hovertext": [
          "Guatemala"
         ],
         "legendgroup": "Guatemala",
         "locations": [
          "GTM"
         ],
         "marker": {
          "color": "#636efa",
          "size": [
           67
          ],
          "sizemode": "area",
          "sizeref": 3.580408163265306,
          "symbol": "circle"
         },
         "mode": "markers",
         "name": "Guatemala",
         "showlegend": true,
         "type": "scattergeo"
        },
        {
         "geo": "geo",
         "hovertemplate": "<b>%{hovertext}</b><br><br>Country=Poland<br>Number_of_Deaths=%{marker.size}<br>CODE=%{location}<extra></extra>",
         "hovertext": [
          "Poland"
         ],
         "legendgroup": "Poland",
         "locations": [
          "POL"
         ],
         "marker": {
          "color": "#EF553B",
          "size": [
           55
          ],
          "sizemode": "area",
          "sizeref": 3.580408163265306,
          "symbol": "circle"
         },
         "mode": "markers",
         "name": "Poland",
         "showlegend": true,
         "type": "scattergeo"
        },
        {
         "geo": "geo",
         "hovertemplate": "<b>%{hovertext}</b><br><br>Country=Pakistan<br>Number_of_Deaths=%{marker.size}<br>CODE=%{location}<extra></extra>",
         "hovertext": [
          "Pakistan"
         ],
         "legendgroup": "Pakistan",
         "locations": [
          "PAK"
         ],
         "marker": {
          "color": "#00cc96",
          "size": [
           51
          ],
          "sizemode": "area",
          "sizeref": 3.580408163265306,
          "symbol": "circle"
         },
         "mode": "markers",
         "name": "Pakistan",
         "showlegend": true,
         "type": "scattergeo"
        },
        {
         "geo": "geo",
         "hovertemplate": "<b>%{hovertext}</b><br><br>Country=Cyprus<br>Number_of_Deaths=%{marker.size}<br>CODE=%{location}<extra></extra>",
         "hovertext": [
          "Cyprus"
         ],
         "legendgroup": "Cyprus",
         "locations": [
          "CYP"
         ],
         "marker": {
          "color": "#ab63fa",
          "size": [
           30
          ],
          "sizemode": "area",
          "sizeref": 3.580408163265306,
          "symbol": "circle"
         },
         "mode": "markers",
         "name": "Cyprus",
         "showlegend": true,
         "type": "scattergeo"
        },
        {
         "geo": "geo",
         "hovertemplate": "<b>%{hovertext}</b><br><br>Country=Israel<br>Number_of_Deaths=%{marker.size}<br>CODE=%{location}<extra></extra>",
         "hovertext": [
          "Israel"
         ],
         "legendgroup": "Israel",
         "locations": [
          "ISR"
         ],
         "marker": {
          "color": "#FFA15A",
          "size": [
           24
          ],
          "sizemode": "area",
          "sizeref": 3.580408163265306,
          "symbol": "circle"
         },
         "mode": "markers",
         "name": "Israel",
         "showlegend": true,
         "type": "scattergeo"
        }
       ],
       "layout": {
        "geo": {
         "center": {},
         "domain": {
          "x": [
           0,
           1
          ],
          "y": [
           0,
           1
          ]
         },
         "projection": {
          "type": "natural earth"
         }
        },
        "legend": {
         "itemsizing": "constant",
         "title": {
          "text": "Country"
         },
         "tracegroupgap": 0
        },
        "margin": {
         "t": 60
        },
        "template": {
         "data": {
          "bar": [
           {
            "error_x": {
             "color": "#f2f5fa"
            },
            "error_y": {
             "color": "#f2f5fa"
            },
            "marker": {
             "line": {
              "color": "rgb(17,17,17)",
              "width": 0.5
             },
             "pattern": {
              "fillmode": "overlay",
              "size": 10,
              "solidity": 0.2
             }
            },
            "type": "bar"
           }
          ],
          "barpolar": [
           {
            "marker": {
             "line": {
              "color": "rgb(17,17,17)",
              "width": 0.5
             },
             "pattern": {
              "fillmode": "overlay",
              "size": 10,
              "solidity": 0.2
             }
            },
            "type": "barpolar"
           }
          ],
          "carpet": [
           {
            "aaxis": {
             "endlinecolor": "#A2B1C6",
             "gridcolor": "#506784",
             "linecolor": "#506784",
             "minorgridcolor": "#506784",
             "startlinecolor": "#A2B1C6"
            },
            "baxis": {
             "endlinecolor": "#A2B1C6",
             "gridcolor": "#506784",
             "linecolor": "#506784",
             "minorgridcolor": "#506784",
             "startlinecolor": "#A2B1C6"
            },
            "type": "carpet"
           }
          ],
          "choropleth": [
           {
            "colorbar": {
             "outlinewidth": 0,
             "ticks": ""
            },
            "type": "choropleth"
           }
          ],
          "contour": [
           {
            "colorbar": {
             "outlinewidth": 0,
             "ticks": ""
            },
            "colorscale": [
             [
              0,
              "#0d0887"
             ],
             [
              0.1111111111111111,
              "#46039f"
             ],
             [
              0.2222222222222222,
              "#7201a8"
             ],
             [
              0.3333333333333333,
              "#9c179e"
             ],
             [
              0.4444444444444444,
              "#bd3786"
             ],
             [
              0.5555555555555556,
              "#d8576b"
             ],
             [
              0.6666666666666666,
              "#ed7953"
             ],
             [
              0.7777777777777778,
              "#fb9f3a"
             ],
             [
              0.8888888888888888,
              "#fdca26"
             ],
             [
              1,
              "#f0f921"
             ]
            ],
            "type": "contour"
           }
          ],
          "contourcarpet": [
           {
            "colorbar": {
             "outlinewidth": 0,
             "ticks": ""
            },
            "type": "contourcarpet"
           }
          ],
          "heatmap": [
           {
            "colorbar": {
             "outlinewidth": 0,
             "ticks": ""
            },
            "colorscale": [
             [
              0,
              "#0d0887"
             ],
             [
              0.1111111111111111,
              "#46039f"
             ],
             [
              0.2222222222222222,
              "#7201a8"
             ],
             [
              0.3333333333333333,
              "#9c179e"
             ],
             [
              0.4444444444444444,
              "#bd3786"
             ],
             [
              0.5555555555555556,
              "#d8576b"
             ],
             [
              0.6666666666666666,
              "#ed7953"
             ],
             [
              0.7777777777777778,
              "#fb9f3a"
             ],
             [
              0.8888888888888888,
              "#fdca26"
             ],
             [
              1,
              "#f0f921"
             ]
            ],
            "type": "heatmap"
           }
          ],
          "heatmapgl": [
           {
            "colorbar": {
             "outlinewidth": 0,
             "ticks": ""
            },
            "colorscale": [
             [
              0,
              "#0d0887"
             ],
             [
              0.1111111111111111,
              "#46039f"
             ],
             [
              0.2222222222222222,
              "#7201a8"
             ],
             [
              0.3333333333333333,
              "#9c179e"
             ],
             [
              0.4444444444444444,
              "#bd3786"
             ],
             [
              0.5555555555555556,
              "#d8576b"
             ],
             [
              0.6666666666666666,
              "#ed7953"
             ],
             [
              0.7777777777777778,
              "#fb9f3a"
             ],
             [
              0.8888888888888888,
              "#fdca26"
             ],
             [
              1,
              "#f0f921"
             ]
            ],
            "type": "heatmapgl"
           }
          ],
          "histogram": [
           {
            "marker": {
             "pattern": {
              "fillmode": "overlay",
              "size": 10,
              "solidity": 0.2
             }
            },
            "type": "histogram"
           }
          ],
          "histogram2d": [
           {
            "colorbar": {
             "outlinewidth": 0,
             "ticks": ""
            },
            "colorscale": [
             [
              0,
              "#0d0887"
             ],
             [
              0.1111111111111111,
              "#46039f"
             ],
             [
              0.2222222222222222,
              "#7201a8"
             ],
             [
              0.3333333333333333,
              "#9c179e"
             ],
             [
              0.4444444444444444,
              "#bd3786"
             ],
             [
              0.5555555555555556,
              "#d8576b"
             ],
             [
              0.6666666666666666,
              "#ed7953"
             ],
             [
              0.7777777777777778,
              "#fb9f3a"
             ],
             [
              0.8888888888888888,
              "#fdca26"
             ],
             [
              1,
              "#f0f921"
             ]
            ],
            "type": "histogram2d"
           }
          ],
          "histogram2dcontour": [
           {
            "colorbar": {
             "outlinewidth": 0,
             "ticks": ""
            },
            "colorscale": [
             [
              0,
              "#0d0887"
             ],
             [
              0.1111111111111111,
              "#46039f"
             ],
             [
              0.2222222222222222,
              "#7201a8"
             ],
             [
              0.3333333333333333,
              "#9c179e"
             ],
             [
              0.4444444444444444,
              "#bd3786"
             ],
             [
              0.5555555555555556,
              "#d8576b"
             ],
             [
              0.6666666666666666,
              "#ed7953"
             ],
             [
              0.7777777777777778,
              "#fb9f3a"
             ],
             [
              0.8888888888888888,
              "#fdca26"
             ],
             [
              1,
              "#f0f921"
             ]
            ],
            "type": "histogram2dcontour"
           }
          ],
          "mesh3d": [
           {
            "colorbar": {
             "outlinewidth": 0,
             "ticks": ""
            },
            "type": "mesh3d"
           }
          ],
          "parcoords": [
           {
            "line": {
             "colorbar": {
              "outlinewidth": 0,
              "ticks": ""
             }
            },
            "type": "parcoords"
           }
          ],
          "pie": [
           {
            "automargin": true,
            "type": "pie"
           }
          ],
          "scatter": [
           {
            "marker": {
             "line": {
              "color": "#283442"
             }
            },
            "type": "scatter"
           }
          ],
          "scatter3d": [
           {
            "line": {
             "colorbar": {
              "outlinewidth": 0,
              "ticks": ""
             }
            },
            "marker": {
             "colorbar": {
              "outlinewidth": 0,
              "ticks": ""
             }
            },
            "type": "scatter3d"
           }
          ],
          "scattercarpet": [
           {
            "marker": {
             "colorbar": {
              "outlinewidth": 0,
              "ticks": ""
             }
            },
            "type": "scattercarpet"
           }
          ],
          "scattergeo": [
           {
            "marker": {
             "colorbar": {
              "outlinewidth": 0,
              "ticks": ""
             }
            },
            "type": "scattergeo"
           }
          ],
          "scattergl": [
           {
            "marker": {
             "line": {
              "color": "#283442"
             }
            },
            "type": "scattergl"
           }
          ],
          "scattermapbox": [
           {
            "marker": {
             "colorbar": {
              "outlinewidth": 0,
              "ticks": ""
             }
            },
            "type": "scattermapbox"
           }
          ],
          "scatterpolar": [
           {
            "marker": {
             "colorbar": {
              "outlinewidth": 0,
              "ticks": ""
             }
            },
            "type": "scatterpolar"
           }
          ],
          "scatterpolargl": [
           {
            "marker": {
             "colorbar": {
              "outlinewidth": 0,
              "ticks": ""
             }
            },
            "type": "scatterpolargl"
           }
          ],
          "scatterternary": [
           {
            "marker": {
             "colorbar": {
              "outlinewidth": 0,
              "ticks": ""
             }
            },
            "type": "scatterternary"
           }
          ],
          "surface": [
           {
            "colorbar": {
             "outlinewidth": 0,
             "ticks": ""
            },
            "colorscale": [
             [
              0,
              "#0d0887"
             ],
             [
              0.1111111111111111,
              "#46039f"
             ],
             [
              0.2222222222222222,
              "#7201a8"
             ],
             [
              0.3333333333333333,
              "#9c179e"
             ],
             [
              0.4444444444444444,
              "#bd3786"
             ],
             [
              0.5555555555555556,
              "#d8576b"
             ],
             [
              0.6666666666666666,
              "#ed7953"
             ],
             [
              0.7777777777777778,
              "#fb9f3a"
             ],
             [
              0.8888888888888888,
              "#fdca26"
             ],
             [
              1,
              "#f0f921"
             ]
            ],
            "type": "surface"
           }
          ],
          "table": [
           {
            "cells": {
             "fill": {
              "color": "#506784"
             },
             "line": {
              "color": "rgb(17,17,17)"
             }
            },
            "header": {
             "fill": {
              "color": "#2a3f5f"
             },
             "line": {
              "color": "rgb(17,17,17)"
             }
            },
            "type": "table"
           }
          ]
         },
         "layout": {
          "annotationdefaults": {
           "arrowcolor": "#f2f5fa",
           "arrowhead": 0,
           "arrowwidth": 1
          },
          "autotypenumbers": "strict",
          "coloraxis": {
           "colorbar": {
            "outlinewidth": 0,
            "ticks": ""
           }
          },
          "colorscale": {
           "diverging": [
            [
             0,
             "#8e0152"
            ],
            [
             0.1,
             "#c51b7d"
            ],
            [
             0.2,
             "#de77ae"
            ],
            [
             0.3,
             "#f1b6da"
            ],
            [
             0.4,
             "#fde0ef"
            ],
            [
             0.5,
             "#f7f7f7"
            ],
            [
             0.6,
             "#e6f5d0"
            ],
            [
             0.7,
             "#b8e186"
            ],
            [
             0.8,
             "#7fbc41"
            ],
            [
             0.9,
             "#4d9221"
            ],
            [
             1,
             "#276419"
            ]
           ],
           "sequential": [
            [
             0,
             "#0d0887"
            ],
            [
             0.1111111111111111,
             "#46039f"
            ],
            [
             0.2222222222222222,
             "#7201a8"
            ],
            [
             0.3333333333333333,
             "#9c179e"
            ],
            [
             0.4444444444444444,
             "#bd3786"
            ],
            [
             0.5555555555555556,
             "#d8576b"
            ],
            [
             0.6666666666666666,
             "#ed7953"
            ],
            [
             0.7777777777777778,
             "#fb9f3a"
            ],
            [
             0.8888888888888888,
             "#fdca26"
            ],
            [
             1,
             "#f0f921"
            ]
           ],
           "sequentialminus": [
            [
             0,
             "#0d0887"
            ],
            [
             0.1111111111111111,
             "#46039f"
            ],
            [
             0.2222222222222222,
             "#7201a8"
            ],
            [
             0.3333333333333333,
             "#9c179e"
            ],
            [
             0.4444444444444444,
             "#bd3786"
            ],
            [
             0.5555555555555556,
             "#d8576b"
            ],
            [
             0.6666666666666666,
             "#ed7953"
            ],
            [
             0.7777777777777778,
             "#fb9f3a"
            ],
            [
             0.8888888888888888,
             "#fdca26"
            ],
            [
             1,
             "#f0f921"
            ]
           ]
          },
          "colorway": [
           "#636efa",
           "#EF553B",
           "#00cc96",
           "#ab63fa",
           "#FFA15A",
           "#19d3f3",
           "#FF6692",
           "#B6E880",
           "#FF97FF",
           "#FECB52"
          ],
          "font": {
           "color": "#f2f5fa"
          },
          "geo": {
           "bgcolor": "rgb(17,17,17)",
           "lakecolor": "rgb(17,17,17)",
           "landcolor": "rgb(17,17,17)",
           "showlakes": true,
           "showland": true,
           "subunitcolor": "#506784"
          },
          "hoverlabel": {
           "align": "left"
          },
          "hovermode": "closest",
          "mapbox": {
           "style": "dark"
          },
          "paper_bgcolor": "rgb(17,17,17)",
          "plot_bgcolor": "rgb(17,17,17)",
          "polar": {
           "angularaxis": {
            "gridcolor": "#506784",
            "linecolor": "#506784",
            "ticks": ""
           },
           "bgcolor": "rgb(17,17,17)",
           "radialaxis": {
            "gridcolor": "#506784",
            "linecolor": "#506784",
            "ticks": ""
           }
          },
          "scene": {
           "xaxis": {
            "backgroundcolor": "rgb(17,17,17)",
            "gridcolor": "#506784",
            "gridwidth": 2,
            "linecolor": "#506784",
            "showbackground": true,
            "ticks": "",
            "zerolinecolor": "#C8D4E3"
           },
           "yaxis": {
            "backgroundcolor": "rgb(17,17,17)",
            "gridcolor": "#506784",
            "gridwidth": 2,
            "linecolor": "#506784",
            "showbackground": true,
            "ticks": "",
            "zerolinecolor": "#C8D4E3"
           },
           "zaxis": {
            "backgroundcolor": "rgb(17,17,17)",
            "gridcolor": "#506784",
            "gridwidth": 2,
            "linecolor": "#506784",
            "showbackground": true,
            "ticks": "",
            "zerolinecolor": "#C8D4E3"
           }
          },
          "shapedefaults": {
           "line": {
            "color": "#f2f5fa"
           }
          },
          "sliderdefaults": {
           "bgcolor": "#C8D4E3",
           "bordercolor": "rgb(17,17,17)",
           "borderwidth": 1,
           "tickwidth": 0
          },
          "ternary": {
           "aaxis": {
            "gridcolor": "#506784",
            "linecolor": "#506784",
            "ticks": ""
           },
           "baxis": {
            "gridcolor": "#506784",
            "linecolor": "#506784",
            "ticks": ""
           },
           "bgcolor": "rgb(17,17,17)",
           "caxis": {
            "gridcolor": "#506784",
            "linecolor": "#506784",
            "ticks": ""
           }
          },
          "title": {
           "x": 0.05
          },
          "updatemenudefaults": {
           "bgcolor": "#506784",
           "borderwidth": 0
          },
          "xaxis": {
           "automargin": true,
           "gridcolor": "#283442",
           "linecolor": "#506784",
           "ticks": "",
           "title": {
            "standoff": 15
           },
           "zerolinecolor": "#283442",
           "zerolinewidth": 2
          },
          "yaxis": {
           "automargin": true,
           "gridcolor": "#283442",
           "linecolor": "#506784",
           "ticks": "",
           "title": {
            "standoff": 15
           },
           "zerolinecolor": "#283442",
           "zerolinewidth": 2
          }
         }
        }
       }
      }
     },
     "metadata": {},
     "output_type": "display_data"
    }
   ],
   "source": [
    "import plotly.express as px\n",
    "fig = px.scatter_geo(merge, locations=\"CODE\", color=\"Country\",\n",
    "                     hover_name=\"Country\", size=\"Number_of_Deaths\",\n",
    "                     projection=\"natural earth\", size_max = 35, template = 'plotly_dark')\n",
    "fig.show()"
   ]
  },
  {
   "cell_type": "code",
   "execution_count": null,
   "metadata": {},
   "outputs": [],
   "source": []
  }
 ],
 "metadata": {
  "kernelspec": {
   "display_name": "Python 3 (ipykernel)",
   "language": "python",
   "name": "python3"
  },
  "language_info": {
   "codemirror_mode": {
    "name": "ipython",
    "version": 3
   },
   "file_extension": ".py",
   "mimetype": "text/x-python",
   "name": "python",
   "nbconvert_exporter": "python",
   "pygments_lexer": "ipython3",
   "version": "3.8.10"
  }
 },
 "nbformat": 4,
 "nbformat_minor": 4
}
